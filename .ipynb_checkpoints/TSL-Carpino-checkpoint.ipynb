{
 "cells": [
  {
   "cell_type": "markdown",
   "metadata": {
    "nbpresent": {
     "id": "a2c113ea-c520-45cb-88d1-316857b82bf6"
    }
   },
   "source": [
    "# Teoria Secular Linear\n",
    "\n",
    "Aplicando a Teoria Secular Linear a um conjundo genérico de planetas"
   ]
  },
  {
   "cell_type": "code",
   "execution_count": 7,
   "metadata": {
    "collapsed": false,
    "nbpresent": {
     "id": "1e9667ec-f6e0-41cd-bafb-6a3914a971a5"
    }
   },
   "outputs": [],
   "source": [
    "# Importando módulos\n",
    "import numpy as np\n",
    "import pandas as pd\n",
    "from scipy.integrate import quad\n",
    "import os"
   ]
  },
  {
   "cell_type": "markdown",
   "metadata": {
    "nbpresent": {
     "id": "7c7499e2-3113-4f6d-ac3d-1f47c22a357d"
    }
   },
   "source": [
    "## Constantes\n",
    "A constante da gravitação universal $G$ tem o valor para o qual $M_{\\odot} = 1$."
   ]
  },
  {
   "cell_type": "code",
   "execution_count": 8,
   "metadata": {
    "collapsed": true,
    "nbpresent": {
     "id": "a4ea27ed-b28b-4df3-8678-bdf03ee60fbe"
    }
   },
   "outputs": [],
   "source": [
    "# Constante da gravitação universal\n",
    "G = (0.01720209895)**2 # para o SS AU^3 d^-2 M_sol^-1"
   ]
  },
  {
   "cell_type": "markdown",
   "metadata": {
    "nbpresent": {
     "id": "cd4aff3f-e863-4a73-8922-83d7d4537196"
    }
   },
   "source": [
    "## Massa do Sol"
   ]
  },
  {
   "cell_type": "code",
   "execution_count": 9,
   "metadata": {
    "collapsed": false,
    "nbpresent": {
     "id": "8d168dcf-7539-466f-9bb5-34bcf8da7cbb"
    }
   },
   "outputs": [],
   "source": [
    "# Massa do Sol\n",
    "M = 1 # Massa unitária para o Sol"
   ]
  },
  {
   "cell_type": "markdown",
   "metadata": {
    "nbpresent": {
     "id": "947af6ca-ec79-4706-8734-63dcd2366690"
    }
   },
   "source": [
    "## Dados dos planetas"
   ]
  },
  {
   "cell_type": "code",
   "execution_count": 10,
   "metadata": {
    "collapsed": false
   },
   "outputs": [],
   "source": [
    "# Leitura dos dados\n",
    "pl = pd.read_fwf('planetas-Carpino.txt')\n",
    "\n",
    "# Lista dos nomes dos planetas\n",
    "planeta = pl['Planeta']\n",
    "\n",
    "# Semieixo maior\n",
    "a = pl['a'] # AU\n",
    "\n",
    "# Comprimento do vetor de semieixos.\n",
    "len_a = len(a)\n",
    "\n",
    "# Criando a coluna varpi\n",
    "# Se a valor de varpi for superior a 360, subtrair 360 graus.\n",
    "pl['varpi'] = pl['capom'] + pl['omega']\n",
    "for i in pl.index:\n",
    "    if pl['varpi'][i] >=360:\n",
    "        pl.loc[i,'varpi'] = pl.loc[i,'varpi'] - 360"
   ]
  },
  {
   "cell_type": "code",
   "execution_count": 11,
   "metadata": {
    "collapsed": false,
    "nbpresent": {
     "id": "dac09f99-ed07-44d6-871c-fd5901167fa2"
    }
   },
   "outputs": [],
   "source": [
    "# Dados das massas\n",
    "m = pl['m'] # Considerando massa unitária para o Sol\n",
    "\n",
    "# Dados dos movimentos médios n calculado\n",
    "n = (G * (M + m)/a**3)**(1/2) # rad/day\n",
    "\n",
    "# Dados dos movimentos médios lidos\n",
    "#n = pl['n'] # deg/day\n",
    "#n = (n * np.pi / 180) # rad/day\n",
    "\n",
    "# Excentricidade\n",
    "e = pl['e']\n",
    "\n",
    "# Inclinação\n",
    "inc = pl['inc']\n",
    "\n",
    "# Longitude do periastro\n",
    "varpi = pl['varpi']\n",
    "\n",
    "# Longitude do nodo ascendente\n",
    "capom = pl['capom']"
   ]
  },
  {
   "cell_type": "markdown",
   "metadata": {},
   "source": [
    "### Verificando dados de entrada"
   ]
  },
  {
   "cell_type": "code",
   "execution_count": 12,
   "metadata": {
    "collapsed": false
   },
   "outputs": [
    {
     "name": "stdout",
     "output_type": "stream",
     "text": [
      "\n",
      "Dados de entrada\n",
      "---------------------\n",
      "\n",
      "   Planeta         m          a         e       inc       capom       omega  \\\n",
      "0  Jupiter  0.000955   5.202582  0.048233  1.304860  100.398551  273.736840   \n",
      "1  Saturno  0.000286   9.545543  0.053913  2.486150  113.863936  340.180810   \n",
      "2    Urano  0.000044  19.194230  0.051343  0.773096   74.102824   97.873259   \n",
      "3   Netuno  0.000051  30.070971  0.004775  1.772198  131.513377  281.633209   \n",
      "\n",
      "          n       varpi  \n",
      "0  0.083091   14.135391  \n",
      "1  0.033555   94.044746  \n",
      "2  0.011643  171.976083  \n",
      "3  0.005944   53.146586  \n"
     ]
    }
   ],
   "source": [
    "print('\\nDados de entrada')\n",
    "print('---------------------\\n')\n",
    "print(pl)"
   ]
  },
  {
   "cell_type": "markdown",
   "metadata": {
    "nbpresent": {
     "id": "32f4d797-e9c5-4d68-9fe5-e52f5eb494dd"
    }
   },
   "source": [
    "## Definição das funções"
   ]
  },
  {
   "cell_type": "markdown",
   "metadata": {
    "nbpresent": {
     "id": "0eb4383c-274a-4af8-bdd3-19509610c91f"
    }
   },
   "source": [
    "### Função $\\alpha$\n",
    "\n",
    "$$\\alpha_{i, j} = \\frac{\\text{min}\\{a_i, a_j\\}}{\\text{max}\\{a_i, a_j\\}}$$"
   ]
  },
  {
   "cell_type": "code",
   "execution_count": 13,
   "metadata": {
    "collapsed": true,
    "nbpresent": {
     "id": "1644ac48-51cb-4993-ab1d-73c18bfa9141"
    }
   },
   "outputs": [],
   "source": [
    "# Função alpha\n",
    "def al(x, y):\n",
    "    return min(x, y) / max(x, y)"
   ]
  },
  {
   "cell_type": "markdown",
   "metadata": {
    "nbpresent": {
     "id": "9d09ec4e-1c1b-4781-8c71-309bcb9e183f"
    }
   },
   "source": [
    "### Coeficientes de Laplace $b_{\\psi}^{k}(\\alpha_{i,j})$\n",
    "\n",
    "$$b_{\\psi}^{\\left(k\\right)}\\left(\\xi\\right)=\\frac{1}{\\pi}\\int_{0}^{2\\pi}\\left[1-2\\xi\\cos\\theta+\\xi^{2}\\right]^{-\\psi}\\cos\\left(k\\theta\\right)\\,d\\theta$$\n",
    "\n",
    "Para nossos propósitos, $\\psi = 3/2$. O valor de $k$ será igual a $1$ ou $2$."
   ]
  },
  {
   "cell_type": "code",
   "execution_count": 14,
   "metadata": {
    "collapsed": true,
    "nbpresent": {
     "id": "f8359f50-1f29-483d-b0c0-b4abec39a9aa"
    }
   },
   "outputs": [],
   "source": [
    "# Função para coeficientes de Laplace\n",
    "def coeff_laplace(K, al):\n",
    "    f = lambda x: (1 - 2 * al * np.cos(x) + al**2)**(-3/2) * np.cos(K * x)\n",
    "    coeff = quad(f, 0, 2*np.pi)\n",
    "    return (1.0 / np.pi) * coeff[0]"
   ]
  },
  {
   "cell_type": "markdown",
   "metadata": {
    "nbpresent": {
     "id": "de15fe29-f7f5-4e36-a399-4f322d3f7c50"
    }
   },
   "source": [
    "### Resolvendo as equações diferenciais linearizadas\n",
    "\n",
    "Para a resolução das equações,\n",
    "\n",
    "\\begin{align}\n",
    "    \\frac{dk_i}{dt} &=&-&\\sum_{j=1}^N A_{ij} h_j \\\\\n",
    "    \\frac{dh_i}{dt} &=& &\\sum_{j=1}^N A_{ij} k_j \\\\\n",
    "    \\frac{dq_i}{dt} &=&-&\\sum_{j=1}^N B_{ij} p_j \\\\\n",
    "    \\frac{dp_i}{dt} &=& &\\sum_{j=1}^N B_{ij} h_j \n",
    "\\end{align}\n",
    "\n",
    "onde os termos $k, h, p, q$ são as variáveis regularizadas."
   ]
  },
  {
   "cell_type": "markdown",
   "metadata": {
    "nbpresent": {
     "id": "46b3a644-de52-46c4-8bc3-bdff38105f9c"
    }
   },
   "source": [
    "As matrizes $A$ e $B$ são dadas por,\n",
    "\n",
    "\\begin{align}\n",
    "    A_{ij}&=&-&\\frac{G}{4n_{i}a_{i}^{2}}\\frac{m_{j}\\alpha_{ij}}{a_{ij}} b_{3/2}^{\\left(2\\right)}\\left(\\alpha_{ij}\\right)&(i\\ne j)\\\\\n",
    "    A_{ii}&=& & \\frac{G}{4n_{i}a_{i}^{2}}\\sum_{\\substack{j=1\\\\j\\ne i}}^{N}\\frac{m_{j}\\alpha_{ij}}{a_{ij}} b_{3/2}^{\\left(1\\right)}\\left(\\alpha_{ij}\\right)&\\\\\n",
    "    B_{ij}&=& &\\frac{G}{4n_{i}a_{i}^{2}}\\frac{m_{j}\\alpha_{ij}}{a_{ij}} b_{3/2}^{\\left(1\\right)}\\left(\\alpha_{ij}\\right)&(i\\ne j)\\\\\n",
    "    B_{ii}&=& - &\\frac{G}{4n_{i}a_{i}^{2}}\\sum_{\\substack{j=1\\\\j\\ne i}}^{N}\\frac{m_{j}\\alpha_{ij}}{a_{ij}} b_{3/2}^{\\left(1\\right)}\\left(\\alpha_{ij}\\right)&=-A_{ij}\n",
    "\\end{align}"
   ]
  },
  {
   "cell_type": "markdown",
   "metadata": {
    "nbpresent": {
     "id": "68a78d6f-e697-4b43-8ec1-c8c2aab97740"
    }
   },
   "source": [
    "Para efetuar o calculo, foram criadas as funções com as respectivas partes\n",
    "\n",
    "\\begin{align}\n",
    "    \\text{parte1} & = & \\frac{G}{4n_{i}a_{i}^{2}}\\\\\n",
    "    \\text{parte2} & = & \\frac{m_{j}\\alpha_{ij}}{a_{ij}}\\\\\n",
    "    \\text{parte2} & = & b_{3/2}^{\\left(k\\right)}\\left(\\alpha_{ij}\\right)\n",
    "\\end{align}"
   ]
  },
  {
   "cell_type": "code",
   "execution_count": 15,
   "metadata": {
    "collapsed": false,
    "nbpresent": {
     "id": "7efd7490-fc8d-40fe-9f78-af6ff037260a"
    }
   },
   "outputs": [],
   "source": [
    "# Funções para o cálculo das matrizes divida em partes\n",
    "def parte1(i):\n",
    "    return G/(4 * n[i] * a[i]**2)\n",
    "\n",
    "def parte2(i, j):\n",
    "    return (m[j] * al(a[i], a[j])) / max(a[i], a[j])\n",
    "\n",
    "def parte3(K, i, j):\n",
    "    return coeff_laplace(K, al(a[i], a[j]))"
   ]
  },
  {
   "cell_type": "markdown",
   "metadata": {
    "nbpresent": {
     "id": "d4de6ba2-9676-4d1c-88a5-41e850367361"
    }
   },
   "source": [
    "## Matriz A"
   ]
  },
  {
   "cell_type": "code",
   "execution_count": 16,
   "metadata": {
    "collapsed": false,
    "nbpresent": {
     "id": "053499d5-8563-4e17-926f-1b1e84eeb306"
    }
   },
   "outputs": [],
   "source": [
    "# Matriz A\n",
    "A = np.zeros((len_a, len_a))\n",
    "for i in range(0, len_a):\n",
    "    for j in range(0,len_a):\n",
    "        if j != i:\n",
    "            A[i, j] = - parte1(i) * parte2(i, j) * parte3(2, i, j)\n",
    "        else:\n",
    "            parcial = 0\n",
    "            for l in range(0, len_a):\n",
    "                if l != i:\n",
    "                    parcial = parcial + parte2(i, l) * parte3(1, i, l)\n",
    "            A[i, j] = parte1(i) * parcial\n",
    "\n",
    "\n",
    "# Convertendo a matriz A para unidades de arcsec / yr\n",
    "A = A * (180/np.pi) * 365.25 * 3600\n",
    "\n",
    "# Convertendo a matriz A para unidades de deg / yr\n",
    "#A = A * (180/np.pi) * 365.25\n",
    "\n",
    "# Obtendo a matriz simétrica A\n",
    "A_cal = np.zeros((len_a,len_a))\n",
    "for i in range(0,len_a):\n",
    "    for j in range(0,len_a):\n",
    "        if i == j:\n",
    "            A_cal[i, i] = A[i,i]\n",
    "        else:\n",
    "            A_cal[i, j] = ((a[i] * np.sqrt(m[i] * n[i])) \\\n",
    "                           / (a[j] * np.sqrt(m[j] * n[j]))) * A[i, j]\n",
    "            \n",
    "# Obtendo os autovetores e autovalres de A\n",
    "A_eigen = np.linalg.eig(A_cal)"
   ]
  },
  {
   "cell_type": "markdown",
   "metadata": {
    "nbpresent": {
     "id": "6587826f-eff8-4820-8026-117fe57f5d4e"
    }
   },
   "source": [
    "## Matriz B"
   ]
  },
  {
   "cell_type": "code",
   "execution_count": 17,
   "metadata": {
    "collapsed": true,
    "nbpresent": {
     "id": "5e8bdbbf-1595-49b4-9778-0932594afd96"
    }
   },
   "outputs": [],
   "source": [
    "# Matriz B\n",
    "\n",
    "B = np.zeros((len_a, len_a))\n",
    "for i in range(0, len_a):\n",
    "    for j in range(0,len_a):\n",
    "        if j != i:\n",
    "            B[i, j] =  parte1(i) * parte2(i, j) * parte3(1, i, j)\n",
    "        else:\n",
    "            B[i, i] = -A[i, i]\n",
    "\n",
    "\n",
    "# Convertendo a matriz B para unidades de arcsec / yr\n",
    "B = B * (180/np.pi) * 365.25 * 3600\n",
    "\n",
    "# Convertendo a matriz B para unidades de deg / yr\n",
    "#B = B * (180/np.pi) * 365.25\n",
    "\n",
    "# Obtendo a matriz simétrica B\n",
    "B_cal = np.zeros((len_a,len_a))\n",
    "for i in range(0,len_a):\n",
    "    for j in range(0,len_a):\n",
    "        if i == j:\n",
    "            B_cal[i, i] = -A[i,i]\n",
    "        else:\n",
    "            B_cal[i, j] = ((a[i] * np.sqrt(m[i] * n[i])) \\\n",
    "                           / (a[j] * np.sqrt(m[j] * n[j]))) * B[i, j]\n",
    "\n",
    "# Obtendo os autovetores e autovalres de B\n",
    "B_eigen = np.linalg.eig(B_cal)"
   ]
  },
  {
   "cell_type": "markdown",
   "metadata": {
    "nbpresent": {
     "id": "9fa375ec-1bad-452c-9913-16d80af23177"
    }
   },
   "source": [
    "### Matrizes A e B e seus respectivos autovetores e autovalores"
   ]
  },
  {
   "cell_type": "code",
   "execution_count": 18,
   "metadata": {
    "collapsed": false,
    "nbpresent": {
     "id": "23498cd2-fba9-468a-8cda-89a4bf7c0521"
    }
   },
   "outputs": [
    {
     "name": "stdout",
     "output_type": "stream",
     "text": [
      "Resultados em deg/yr\n",
      "--------------------\n",
      "\n",
      "\n",
      " Matriz simétrica A\n",
      "[[  7.47741065e+00  -7.56414296e+00  -9.29751220e-02  -1.38276488e-02]\n",
      " [ -7.56414296e+00   1.85515104e+01  -3.90070046e-01  -4.58862168e-02]\n",
      " [ -9.29751220e-02  -3.90070046e-01   2.74887421e+00  -2.57474345e-01]\n",
      " [ -1.38276488e-02  -4.58862168e-02  -2.57474345e-01   6.67666253e-01]]\n",
      "\n",
      " Autovetores de A\n",
      "[[-0.45214967  0.86249542 -0.22659729  0.01777633]\n",
      " [ 0.89180541  0.43273776 -0.13137248  0.01274398]\n",
      " [-0.01554957 -0.26211065 -0.95691867  0.12394707]\n",
      " [-0.00141149  0.01173435  0.125306    0.99204774]]\n",
      "\n",
      " Autovalores de A\n",
      "[ 22.39344147   3.71033819   2.70702185   0.63466001]\n",
      "\n",
      " Matriz simétrica B\n",
      "[[ -7.47741065  11.57814422   0.2770196    0.06418156]\n",
      " [ 11.57814422 -18.55151041   0.64928235   0.11716714]\n",
      " [  0.2770196    0.64928235  -2.74887421   0.34283764]\n",
      " [  0.06418156   0.11716714   0.34283764  -0.66766625]]\n",
      "\n",
      " Autovetores de B\n",
      "[[-0.53275876  0.17828837  0.78504113 -0.26094401]\n",
      " [ 0.84608599  0.09275679  0.49986916 -0.16020453]\n",
      " [-0.01735256 -0.96978826  0.23241867  0.07204987]\n",
      " [-0.00234204  0.1382757   0.28252929  0.94923735]]\n",
      "\n",
      " Autovalores de B\n",
      "[ -2.58556130e+01  -2.91078670e+00   1.14057997e-15  -6.79061817e-01]\n"
     ]
    }
   ],
   "source": [
    "# Resultados\n",
    "\n",
    "#print('Resultados em arcsec/yr')\n",
    "#print('--------------------\\n')\n",
    "\n",
    "print('Resultados em deg/yr')\n",
    "print('--------------------\\n')\n",
    "\n",
    "print('\\n Matriz simétrica A')\n",
    "print(A_cal)\n",
    "\n",
    "print('\\n Autovetores de A')\n",
    "print(A_eigen[1])\n",
    "\n",
    "print('\\n Autovalores de A')\n",
    "print(A_eigen[0])\n",
    "\n",
    "print('\\n Matriz simétrica B')\n",
    "print(B_cal)\n",
    "\n",
    "print('\\n Autovetores de B')\n",
    "print(B_eigen[1])\n",
    "\n",
    "print('\\n Autovalores de B')\n",
    "print(B_eigen[0])"
   ]
  },
  {
   "cell_type": "markdown",
   "metadata": {},
   "source": [
    "### Matrizes rescalonadas\n",
    "\n",
    "$$\n",
    "    G_{i,j} = \\frac{\\mathcal{G}_{i,j}}{a_i \\sqrt{m_i n_i}}\n",
    "$$"
   ]
  },
  {
   "cell_type": "code",
   "execution_count": 24,
   "metadata": {
    "collapsed": false
   },
   "outputs": [
    {
     "name": "stdout",
     "output_type": "stream",
     "text": [
      "[[ -73.85482142  140.88132642  -37.01274967    2.90361328]\n",
      " [ 228.77196799  111.00882177  -33.7005595     3.26917331]\n",
      " [  -8.57899266 -144.61145855 -527.95033347   68.3839666 ]\n",
      " [  -0.64062594    5.32579815   56.87186216  450.25457921]]\n"
     ]
    }
   ],
   "source": [
    "u_estrela = A_eigen[1]\n",
    "u = np.zeros((len_a, len_a))\n",
    "\n",
    "for i in range(0, len_a):\n",
    "    for j in range(0, len_a):\n",
    "        u[i, j] = (u_estrela[i,j]/(a[i] * np.sqrt(m[i] * n[i])))\n",
    "\n",
    "print(u)"
   ]
  },
  {
   "cell_type": "markdown",
   "metadata": {},
   "source": [
    "## Condições de contorno\n",
    "\n",
    "### Cálculo das variáveis regulares\n",
    "\n",
    "\\begin{equation}\n",
    "    \\begin{array}{cc}\n",
    "        h_j = e_j \\sin \\varpi_j & \\quad p_j = \\sin I_j \\sin \\Omega_j \\\\\n",
    "        k_j = e_j \\cos \\varpi_j & \\quad q_j = \\sin I_j \\cos \\Omega_j\n",
    "    \\end{array}\n",
    "\\end{equation}"
   ]
  },
  {
   "cell_type": "code",
   "execution_count": 20,
   "metadata": {
    "collapsed": false
   },
   "outputs": [
    {
     "name": "stdout",
     "output_type": "stream",
     "text": [
      "\n",
      "Variáveis regulares\n",
      "------------------\n",
      "\n",
      "   Planeta         h         k         p         q\n",
      "0  Jupiter  0.011779  0.046773  0.022398 -0.004110\n",
      "1  Saturno  0.053778 -0.003803  0.039669 -0.017549\n",
      "2    Urano  0.007167 -0.050840  0.012977  0.003696\n",
      "3   Netuno  0.003821  0.002864  0.023157 -0.020497\n"
     ]
    }
   ],
   "source": [
    "pl['h'] = e * np.sin(np.radians(varpi))\n",
    "pl['k'] = e * np.cos(np.radians(varpi))\n",
    "pl['p'] = np.sin(np.radians(inc)) * np.sin(np.radians(capom))\n",
    "pl['q'] = np.sin(np.radians(inc)) * np.cos(np.radians(capom))\n",
    "    \n",
    "print('\\nVariáveis regulares')\n",
    "print('------------------\\n')\n",
    "\n",
    "print(pl[['Planeta', 'h', 'k', 'p', 'q']])"
   ]
  }
 ],
 "metadata": {
  "anaconda-cloud": {},
  "kernelspec": {
   "display_name": "Python [Root]",
   "language": "python",
   "name": "Python [Root]"
  },
  "language_info": {
   "codemirror_mode": {
    "name": "ipython",
    "version": 3
   },
   "file_extension": ".py",
   "mimetype": "text/x-python",
   "name": "python",
   "nbconvert_exporter": "python",
   "pygments_lexer": "ipython3",
   "version": "3.5.2"
  },
  "nbpresent": {
   "slides": {
    "08688f81-6f58-4281-8e33-d1fe031e068f": {
     "id": "08688f81-6f58-4281-8e33-d1fe031e068f",
     "prev": "a4c733c2-b79f-4eed-8321-c51309d3b594",
     "regions": {
      "1bf8aabc-bccd-4394-bee4-d838d43b5ca8": {
       "attrs": {
        "height": 0.8,
        "width": 0.8,
        "x": 0.1,
        "y": 0.1
       },
       "content": {
        "cell": "5e8bdbbf-1595-49b4-9778-0932594afd96",
        "part": "whole"
       },
       "id": "1bf8aabc-bccd-4394-bee4-d838d43b5ca8"
      }
     }
    },
    "0e08f131-3c79-4628-ad0d-c628f654a8ab": {
     "id": "0e08f131-3c79-4628-ad0d-c628f654a8ab",
     "prev": "d4dde4d3-858e-4a76-9d2c-0990fe43093c",
     "regions": {
      "80fb2087-a127-4a0c-aa86-58060a53322d": {
       "attrs": {
        "height": 0.8,
        "width": 0.8,
        "x": 0.1,
        "y": 0.1
       },
       "content": {
        "cell": "7c7499e2-3113-4f6d-ac3d-1f47c22a357d",
        "part": "whole"
       },
       "id": "80fb2087-a127-4a0c-aa86-58060a53322d"
      }
     }
    },
    "13fe6b3e-bd0a-430d-a3b1-5518a5b6bba1": {
     "id": "13fe6b3e-bd0a-430d-a3b1-5518a5b6bba1",
     "prev": "e59cbb1f-b867-4505-bac7-48e66d65318d",
     "regions": {
      "13b2f486-01ca-4b07-bf2d-1f5cb24f9864": {
       "attrs": {
        "height": 0.8,
        "width": 0.8,
        "x": 0.1,
        "y": 0.1
       },
       "content": {
        "cell": "d48fb58d-9731-4114-97a3-8bc0b0a1a085",
        "part": "whole"
       },
       "id": "13b2f486-01ca-4b07-bf2d-1f5cb24f9864"
      }
     }
    },
    "207760b0-66da-40d3-8032-4891da62b706": {
     "id": "207760b0-66da-40d3-8032-4891da62b706",
     "prev": "347089ad-64db-4c8f-a1c6-5eb2f634ee5a",
     "regions": {
      "6530e075-425d-43f5-80dd-4dba2787eae4": {
       "attrs": {
        "height": 0.8,
        "width": 0.8,
        "x": 0.1,
        "y": 0.1
       },
       "content": {
        "cell": "053499d5-8563-4e17-926f-1b1e84eeb306",
        "part": "whole"
       },
       "id": "6530e075-425d-43f5-80dd-4dba2787eae4"
      }
     }
    },
    "279d9f22-bb91-4522-ad4c-ec6211ebb287": {
     "id": "279d9f22-bb91-4522-ad4c-ec6211ebb287",
     "prev": "13fe6b3e-bd0a-430d-a3b1-5518a5b6bba1",
     "regions": {
      "bc224aa3-c727-486f-9631-7cbf92b467c6": {
       "attrs": {
        "height": 0.8,
        "width": 0.8,
        "x": 0.1,
        "y": 0.1
       },
       "content": {
        "cell": "9fa375ec-1bad-452c-9913-16d80af23177",
        "part": "whole"
       },
       "id": "bc224aa3-c727-486f-9631-7cbf92b467c6"
      }
     }
    },
    "347089ad-64db-4c8f-a1c6-5eb2f634ee5a": {
     "id": "347089ad-64db-4c8f-a1c6-5eb2f634ee5a",
     "prev": "3c0462ad-d274-4476-bec7-ed71e59c4f2b",
     "regions": {
      "444a70fb-667e-4de6-8781-c3f2d2fce180": {
       "attrs": {
        "height": 0.8,
        "width": 0.8,
        "x": 0.1,
        "y": 0.1
       },
       "content": {
        "cell": "d4de6ba2-9676-4d1c-88a5-41e850367361",
        "part": "whole"
       },
       "id": "444a70fb-667e-4de6-8781-c3f2d2fce180"
      }
     }
    },
    "39aa11d9-f88b-486f-8b05-a57480c52c41": {
     "id": "39aa11d9-f88b-486f-8b05-a57480c52c41",
     "prev": "279d9f22-bb91-4522-ad4c-ec6211ebb287",
     "regions": {
      "b0077214-2e2f-4fb2-8055-c35b494a52bd": {
       "attrs": {
        "height": 0.8,
        "width": 0.8,
        "x": 0.1,
        "y": 0.1
       },
       "content": {
        "cell": "23498cd2-fba9-468a-8cda-89a4bf7c0521",
        "part": "whole"
       },
       "id": "b0077214-2e2f-4fb2-8055-c35b494a52bd"
      }
     }
    },
    "3a7ffd40-5dcd-414a-b9ba-29eff6a0cb8d": {
     "id": "3a7ffd40-5dcd-414a-b9ba-29eff6a0cb8d",
     "prev": "bc384d76-1f69-49ce-98f5-b529118057c4",
     "regions": {
      "99e519e1-beef-4c5c-9915-251fdd299c1d": {
       "attrs": {
        "height": 0.8,
        "width": 0.8,
        "x": 0.1,
        "y": 0.1
       },
       "content": {
        "cell": "0eb4383c-274a-4af8-bdd3-19509610c91f",
        "part": "whole"
       },
       "id": "99e519e1-beef-4c5c-9915-251fdd299c1d"
      }
     }
    },
    "3c0462ad-d274-4476-bec7-ed71e59c4f2b": {
     "id": "3c0462ad-d274-4476-bec7-ed71e59c4f2b",
     "prev": "d089a7a5-a497-4c9b-b754-fc82a146cbf1",
     "regions": {
      "b3c484e1-a28d-4f4e-96e7-07d9f8684cac": {
       "attrs": {
        "height": 0.8,
        "width": 0.8,
        "x": 0.1,
        "y": 0.1
       },
       "content": {
        "cell": "7efd7490-fc8d-40fe-9f78-af6ff037260a",
        "part": "whole"
       },
       "id": "b3c484e1-a28d-4f4e-96e7-07d9f8684cac"
      }
     }
    },
    "3f057a87-0b91-462c-9529-5e30115fc0aa": {
     "id": "3f057a87-0b91-462c-9529-5e30115fc0aa",
     "prev": "08688f81-6f58-4281-8e33-d1fe031e068f",
     "regions": {
      "44d989a0-24c0-46ab-b277-04dda229667d": {
       "attrs": {
        "height": 0.8,
        "width": 0.8,
        "x": 0.1,
        "y": 0.1
       },
       "content": {
        "cell": "6d3ff0c4-96de-4150-989c-96df4783fb97",
        "part": "whole"
       },
       "id": "44d989a0-24c0-46ab-b277-04dda229667d"
      }
     }
    },
    "4041e1a8-2d56-44a6-b24a-5d59f29dacde": {
     "id": "4041e1a8-2d56-44a6-b24a-5d59f29dacde",
     "prev": null,
     "regions": {
      "12c380ee-0554-4bb0-956b-88dc89e7e855": {
       "attrs": {
        "height": 0.8,
        "width": 0.8,
        "x": 0.1,
        "y": 0.1
       },
       "content": {
        "cell": "a2c113ea-c520-45cb-88d1-316857b82bf6",
        "part": "whole"
       },
       "id": "12c380ee-0554-4bb0-956b-88dc89e7e855"
      }
     }
    },
    "4a377609-de81-42e7-a2f0-65bc354b4d80": {
     "id": "4a377609-de81-42e7-a2f0-65bc354b4d80",
     "prev": "bd962bb4-207d-4861-a2e1-68ad833a4757",
     "regions": {
      "b3257dae-888b-4c29-9b32-cb2b3594b2b8": {
       "attrs": {
        "height": 0.8,
        "width": 0.8,
        "x": 0.1,
        "y": 0.1
       },
       "content": {
        "cell": "947af6ca-ec79-4706-8734-63dcd2366690",
        "part": "whole"
       },
       "id": "b3257dae-888b-4c29-9b32-cb2b3594b2b8"
      }
     }
    },
    "4f539d0a-5f5b-4d21-bb0b-3869c965745c": {
     "id": "4f539d0a-5f5b-4d21-bb0b-3869c965745c",
     "prev": "9c4d1c5b-de67-4bb9-ade1-19b2d774c8ed",
     "regions": {
      "4174177f-0dbb-4b5d-b818-ccc6f52d9316": {
       "attrs": {
        "height": 0.8,
        "width": 0.8,
        "x": 0.1,
        "y": 0.1
       },
       "content": {
        "cell": "f8359f50-1f29-483d-b0c0-b4abec39a9aa",
        "part": "whole"
       },
       "id": "4174177f-0dbb-4b5d-b818-ccc6f52d9316"
      }
     }
    },
    "8b4b1b69-8915-472e-8640-551ded281c06": {
     "id": "8b4b1b69-8915-472e-8640-551ded281c06",
     "prev": "9f98955a-648c-4d8f-b515-fd304d01c37e",
     "regions": {
      "131e5ea4-536c-4803-bd15-96301bc58679": {
       "attrs": {
        "height": 0.8,
        "width": 0.8,
        "x": 0.1,
        "y": 0.1
       },
       "content": {
        "cell": "46b3a644-de52-46c4-8bc3-bdff38105f9c",
        "part": "whole"
       },
       "id": "131e5ea4-536c-4803-bd15-96301bc58679"
      }
     }
    },
    "9c4d1c5b-de67-4bb9-ade1-19b2d774c8ed": {
     "id": "9c4d1c5b-de67-4bb9-ade1-19b2d774c8ed",
     "prev": "bd0c4509-6b16-43b5-8e0c-6fb48680e5a2",
     "regions": {
      "e1de1622-d09d-4d0e-910a-0fb3d0d3558a": {
       "attrs": {
        "height": 0.8,
        "width": 0.8,
        "x": 0.1,
        "y": 0.1
       },
       "content": {
        "cell": "9d09ec4e-1c1b-4781-8c71-309bcb9e183f",
        "part": "whole"
       },
       "id": "e1de1622-d09d-4d0e-910a-0fb3d0d3558a"
      }
     }
    },
    "9f98955a-648c-4d8f-b515-fd304d01c37e": {
     "id": "9f98955a-648c-4d8f-b515-fd304d01c37e",
     "prev": "4f539d0a-5f5b-4d21-bb0b-3869c965745c",
     "regions": {
      "e89cb9f1-93b9-480c-9aca-b56e67d76883": {
       "attrs": {
        "height": 0.8,
        "width": 0.8,
        "x": 0.1,
        "y": 0.1
       },
       "content": {
        "cell": "de15fe29-f7f5-4e36-a399-4f322d3f7c50",
        "part": "whole"
       },
       "id": "e89cb9f1-93b9-480c-9aca-b56e67d76883"
      }
     }
    },
    "a4c733c2-b79f-4eed-8321-c51309d3b594": {
     "id": "a4c733c2-b79f-4eed-8321-c51309d3b594",
     "prev": "207760b0-66da-40d3-8032-4891da62b706",
     "regions": {
      "550e628e-ee60-4431-ad84-94594d852c75": {
       "attrs": {
        "height": 0.8,
        "width": 0.8,
        "x": 0.1,
        "y": 0.1
       },
       "content": {
        "cell": "6587826f-eff8-4820-8026-117fe57f5d4e",
        "part": "whole"
       },
       "id": "550e628e-ee60-4431-ad84-94594d852c75"
      }
     }
    },
    "bc384d76-1f69-49ce-98f5-b529118057c4": {
     "id": "bc384d76-1f69-49ce-98f5-b529118057c4",
     "prev": "d08a36bb-d623-4803-ac36-7fed1ba99351",
     "regions": {
      "95a9bf2c-3733-4d21-94d1-4e578adb1f79": {
       "attrs": {
        "height": 0.8,
        "width": 0.8,
        "x": 0.1,
        "y": 0.1
       },
       "content": {
        "cell": "32f4d797-e9c5-4d68-9fe5-e52f5eb494dd",
        "part": "whole"
       },
       "id": "95a9bf2c-3733-4d21-94d1-4e578adb1f79"
      }
     }
    },
    "bd0c4509-6b16-43b5-8e0c-6fb48680e5a2": {
     "id": "bd0c4509-6b16-43b5-8e0c-6fb48680e5a2",
     "prev": "3a7ffd40-5dcd-414a-b9ba-29eff6a0cb8d",
     "regions": {
      "22e78dda-bf73-4d8c-a63a-6077a3108824": {
       "attrs": {
        "height": 0.8,
        "width": 0.8,
        "x": 0.1,
        "y": 0.1
       },
       "content": {
        "cell": "1644ac48-51cb-4993-ab1d-73c18bfa9141",
        "part": "whole"
       },
       "id": "22e78dda-bf73-4d8c-a63a-6077a3108824"
      }
     }
    },
    "bd962bb4-207d-4861-a2e1-68ad833a4757": {
     "id": "bd962bb4-207d-4861-a2e1-68ad833a4757",
     "prev": "da92aa1e-7b74-49d7-9c99-3ec51870c575",
     "regions": {
      "dd6c51d7-a743-4b11-9f73-65ae0a4de752": {
       "attrs": {
        "height": 0.8,
        "width": 0.8,
        "x": 0.1,
        "y": 0.1
       },
       "content": {
        "cell": "8d168dcf-7539-466f-9bb5-34bcf8da7cbb",
        "part": "whole"
       },
       "id": "dd6c51d7-a743-4b11-9f73-65ae0a4de752"
      }
     }
    },
    "bfec82e2-ef72-4523-8433-aa3aec569ce7": {
     "id": "bfec82e2-ef72-4523-8433-aa3aec569ce7",
     "prev": "0e08f131-3c79-4628-ad0d-c628f654a8ab",
     "regions": {
      "fe5e26ff-2ddf-4ef9-94c4-228afe31bbd8": {
       "attrs": {
        "height": 0.8,
        "width": 0.8,
        "x": 0.1,
        "y": 0.1
       },
       "content": {
        "cell": "a4ea27ed-b28b-4df3-8678-bdf03ee60fbe",
        "part": "whole"
       },
       "id": "fe5e26ff-2ddf-4ef9-94c4-228afe31bbd8"
      }
     }
    },
    "d089a7a5-a497-4c9b-b754-fc82a146cbf1": {
     "id": "d089a7a5-a497-4c9b-b754-fc82a146cbf1",
     "prev": "8b4b1b69-8915-472e-8640-551ded281c06",
     "regions": {
      "beba87bc-4e33-46de-b076-95422b49275e": {
       "attrs": {
        "height": 0.8,
        "width": 0.8,
        "x": 0.1,
        "y": 0.1
       },
       "content": {
        "cell": "68a78d6f-e697-4b43-8ec1-c8c2aab97740",
        "part": "whole"
       },
       "id": "beba87bc-4e33-46de-b076-95422b49275e"
      }
     }
    },
    "d08a36bb-d623-4803-ac36-7fed1ba99351": {
     "id": "d08a36bb-d623-4803-ac36-7fed1ba99351",
     "prev": "4a377609-de81-42e7-a2f0-65bc354b4d80",
     "regions": {
      "f0b5cbfd-9303-47f5-a47b-638a6f81ba42": {
       "attrs": {
        "height": 0.8,
        "width": 0.8,
        "x": 0.1,
        "y": 0.1
       },
       "content": {
        "cell": "dac09f99-ed07-44d6-871c-fd5901167fa2",
        "part": "whole"
       },
       "id": "f0b5cbfd-9303-47f5-a47b-638a6f81ba42"
      }
     }
    },
    "d4dde4d3-858e-4a76-9d2c-0990fe43093c": {
     "id": "d4dde4d3-858e-4a76-9d2c-0990fe43093c",
     "prev": "4041e1a8-2d56-44a6-b24a-5d59f29dacde",
     "regions": {
      "83de173d-5c8b-40ff-839c-2a69005f0eab": {
       "attrs": {
        "height": 0.8,
        "width": 0.8,
        "x": 0.1,
        "y": 0.1
       },
       "content": {
        "cell": "1e9667ec-f6e0-41cd-bafb-6a3914a971a5",
        "part": "whole"
       },
       "id": "83de173d-5c8b-40ff-839c-2a69005f0eab"
      }
     }
    },
    "da92aa1e-7b74-49d7-9c99-3ec51870c575": {
     "id": "da92aa1e-7b74-49d7-9c99-3ec51870c575",
     "prev": "bfec82e2-ef72-4523-8433-aa3aec569ce7",
     "regions": {
      "572bbb4c-66c1-46aa-8c2b-d5f603576eed": {
       "attrs": {
        "height": 0.8,
        "width": 0.8,
        "x": 0.1,
        "y": 0.1
       },
       "content": {
        "cell": "cd4aff3f-e863-4a73-8922-83d7d4537196",
        "part": "whole"
       },
       "id": "572bbb4c-66c1-46aa-8c2b-d5f603576eed"
      }
     }
    },
    "e59cbb1f-b867-4505-bac7-48e66d65318d": {
     "id": "e59cbb1f-b867-4505-bac7-48e66d65318d",
     "prev": "3f057a87-0b91-462c-9529-5e30115fc0aa",
     "regions": {
      "0d5421c6-9408-4d51-b26c-0f6a05af4dce": {
       "attrs": {
        "height": 0.8,
        "width": 0.8,
        "x": 0.1,
        "y": 0.1
       },
       "content": {
        "cell": "7253ace0-c54e-49ec-8544-85a82bd42542",
        "part": "whole"
       },
       "id": "0d5421c6-9408-4d51-b26c-0f6a05af4dce"
      }
     }
    }
   },
   "themes": {}
  }
 },
 "nbformat": 4,
 "nbformat_minor": 0
}
