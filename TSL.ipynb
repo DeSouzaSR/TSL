{
 "cells": [
  {
   "cell_type": "markdown",
   "metadata": {
    "nbpresent": {
     "id": "a2c113ea-c520-45cb-88d1-316857b82bf6"
    }
   },
   "source": [
    "# Teoria Secular Linear\n",
    "\n",
    "Aplicando a Teoria Secular Linear a um conjundo genérico de planetas"
   ]
  },
  {
   "cell_type": "code",
   "execution_count": 171,
   "metadata": {
    "collapsed": false,
    "nbpresent": {
     "id": "1e9667ec-f6e0-41cd-bafb-6a3914a971a5"
    }
   },
   "outputs": [],
   "source": [
    "# Importando módulos\n",
    "import numpy as np\n",
    "import pandas as pd\n",
    "from scipy.integrate import quad\n",
    "import os"
   ]
  },
  {
   "cell_type": "markdown",
   "metadata": {
    "nbpresent": {
     "id": "7c7499e2-3113-4f6d-ac3d-1f47c22a357d"
    }
   },
   "source": [
    "## Constantes\n",
    "A constante da gravitação universal $G$ tem o valor para o qual $M_{\\odot} = 1$."
   ]
  },
  {
   "cell_type": "code",
   "execution_count": 172,
   "metadata": {
    "collapsed": true,
    "nbpresent": {
     "id": "a4ea27ed-b28b-4df3-8678-bdf03ee60fbe"
    }
   },
   "outputs": [],
   "source": [
    "# Constante da gravitação universal\n",
    "G = (0.01720209895)**2 # para o SS AU^3 d^-2 M_sol^-1"
   ]
  },
  {
   "cell_type": "markdown",
   "metadata": {
    "nbpresent": {
     "id": "cd4aff3f-e863-4a73-8922-83d7d4537196"
    }
   },
   "source": [
    "## Massa do Sol"
   ]
  },
  {
   "cell_type": "code",
   "execution_count": 173,
   "metadata": {
    "collapsed": false,
    "nbpresent": {
     "id": "8d168dcf-7539-466f-9bb5-34bcf8da7cbb"
    }
   },
   "outputs": [],
   "source": [
    "# Massa do Sol\n",
    "M = 1 # Massa unitária para o Sol"
   ]
  },
  {
   "cell_type": "markdown",
   "metadata": {
    "nbpresent": {
     "id": "947af6ca-ec79-4706-8734-63dcd2366690"
    }
   },
   "source": [
    "## Dados dos planetas"
   ]
  },
  {
   "cell_type": "code",
   "execution_count": 174,
   "metadata": {
    "collapsed": true,
    "nbpresent": {
     "id": "dac09f99-ed07-44d6-871c-fd5901167fa2"
    }
   },
   "outputs": [],
   "source": [
    "# Leitura dos dados\n",
    "pl = pd.read_excel('planetas.xls')\n",
    "\n",
    "# Semieixo maior\n",
    "a = pl['a'] # AU\n",
    "\n",
    "# Comprimento do vetor de semieixos.\n",
    "len_a = len(a)\n",
    "\n",
    "# Dados das massas\n",
    "m = pl['m'] # Considerando massa unitária para o Sol\n",
    "\n",
    "# Dados dos movimentos médios n\n",
    "n = (G * (M + m)/a**3)**(1/2) # rad/day\n",
    "\n",
    "# Excentricidade\n",
    "e = pl['e']\n",
    "\n",
    "# Inclinação\n",
    "inc = pl['inc']\n",
    "\n",
    "# Longitude do periastro\n",
    "varpi = pl['varpi']\n",
    "\n",
    "# Nodo ascendente\n",
    "capom = pl['capom']\n"
   ]
  },
  {
   "cell_type": "markdown",
   "metadata": {},
   "source": [
    "### Verificando dados de entrada"
   ]
  },
  {
   "cell_type": "code",
   "execution_count": 175,
   "metadata": {
    "collapsed": false
   },
   "outputs": [
    {
     "data": {
      "text/html": [
       "<div>\n",
       "<table border=\"1\" class=\"dataframe\">\n",
       "  <thead>\n",
       "    <tr style=\"text-align: right;\">\n",
       "      <th></th>\n",
       "      <th>Planeta</th>\n",
       "      <th>m</th>\n",
       "      <th>a</th>\n",
       "      <th>e</th>\n",
       "      <th>inc</th>\n",
       "      <th>varpi</th>\n",
       "      <th>capom</th>\n",
       "    </tr>\n",
       "  </thead>\n",
       "  <tbody>\n",
       "    <tr>\n",
       "      <th>0</th>\n",
       "      <td>Jupiter</td>\n",
       "      <td>0.000955</td>\n",
       "      <td>5.202545</td>\n",
       "      <td>0.047462</td>\n",
       "      <td>1.30667</td>\n",
       "      <td>13.983865</td>\n",
       "      <td>100.0381</td>\n",
       "    </tr>\n",
       "    <tr>\n",
       "      <th>1</th>\n",
       "      <td>Saturno</td>\n",
       "      <td>0.000286</td>\n",
       "      <td>9.554841</td>\n",
       "      <td>0.057548</td>\n",
       "      <td>2.48795</td>\n",
       "      <td>88.719425</td>\n",
       "      <td>113.1334</td>\n",
       "    </tr>\n",
       "  </tbody>\n",
       "</table>\n",
       "</div>"
      ],
      "text/plain": [
       "   Planeta         m         a         e      inc      varpi     capom\n",
       "0  Jupiter  0.000955  5.202545  0.047462  1.30667  13.983865  100.0381\n",
       "1  Saturno  0.000286  9.554841  0.057548  2.48795  88.719425  113.1334"
      ]
     },
     "execution_count": 175,
     "metadata": {},
     "output_type": "execute_result"
    }
   ],
   "source": [
    "pl"
   ]
  },
  {
   "cell_type": "markdown",
   "metadata": {
    "nbpresent": {
     "id": "32f4d797-e9c5-4d68-9fe5-e52f5eb494dd"
    }
   },
   "source": [
    "## Definição das funções"
   ]
  },
  {
   "cell_type": "markdown",
   "metadata": {
    "nbpresent": {
     "id": "0eb4383c-274a-4af8-bdd3-19509610c91f"
    }
   },
   "source": [
    "### Função $\\alpha$\n",
    "\n",
    "$$\\alpha_{i, j} = \\frac{\\text{min}\\{a_i, a_j\\}}{\\text{max}\\{a_i, a_j\\}}$$"
   ]
  },
  {
   "cell_type": "code",
   "execution_count": 176,
   "metadata": {
    "collapsed": true,
    "nbpresent": {
     "id": "1644ac48-51cb-4993-ab1d-73c18bfa9141"
    }
   },
   "outputs": [],
   "source": [
    "# Função alpha\n",
    "def al(x, y):\n",
    "    return min(x, y) / max(x, y)"
   ]
  },
  {
   "cell_type": "markdown",
   "metadata": {
    "nbpresent": {
     "id": "9d09ec4e-1c1b-4781-8c71-309bcb9e183f"
    }
   },
   "source": [
    "### Coeficientes de Laplace $b_{\\psi}^{k}(\\alpha_{i,j})$\n",
    "\n",
    "$$b_{\\psi}^{\\left(k\\right)}\\left(\\xi\\right)=\\frac{1}{\\pi}\\int_{0}^{2\\pi}\\left[1-2\\xi\\cos\\theta+\\xi^{2}\\right]^{-\\psi}\\cos\\left(k\\theta\\right)\\,d\\theta$$\n",
    "\n",
    "Para nossos propósitos, $\\psi = 3/2$. O valor de $k$ será igual a $1$ ou $2$."
   ]
  },
  {
   "cell_type": "code",
   "execution_count": 177,
   "metadata": {
    "collapsed": true,
    "nbpresent": {
     "id": "f8359f50-1f29-483d-b0c0-b4abec39a9aa"
    }
   },
   "outputs": [],
   "source": [
    "# Função para coeficientes de Laplace\n",
    "def coeff_laplace(k, al):\n",
    "    f = lambda x: (1 - 2 * al * np.cos(x) + al**2)**(-3/2) * np.cos(k * x)\n",
    "    coeff = quad(f, 0, 2*np.pi)\n",
    "    return (1.0 / np.pi) * coeff[0]"
   ]
  },
  {
   "cell_type": "markdown",
   "metadata": {
    "nbpresent": {
     "id": "de15fe29-f7f5-4e36-a399-4f322d3f7c50"
    }
   },
   "source": [
    "### Resolvendo as equações diferenciais linearizadas\n",
    "\n",
    "Para a resolução das equações,\n",
    "\n",
    "\\begin{align}\n",
    "    \\frac{dk_i}{dt} &=&-&\\sum_{j=1}^N A_{ij} h_j \\\\\n",
    "    \\frac{dh_i}{dt} &=& &\\sum_{j=1}^N A_{ij} k_j \\\\\n",
    "    \\frac{dq_i}{dt} &=&-&\\sum_{j=1}^N B_{ij} p_j \\\\\n",
    "    \\frac{dp_i}{dt} &=& &\\sum_{j=1}^N B_{ij} h_j \n",
    "\\end{align}\n",
    "\n",
    "onde os termos $k, h, p, q$ são as variáveis regularizadas."
   ]
  },
  {
   "cell_type": "markdown",
   "metadata": {
    "nbpresent": {
     "id": "46b3a644-de52-46c4-8bc3-bdff38105f9c"
    }
   },
   "source": [
    "As matrizes $A$ e $B$ são dadas por,\n",
    "\n",
    "\\begin{align}\n",
    "    A_{ij}&=&-&\\frac{G}{4n_{i}a_{i}^{2}}\\frac{m_{j}\\alpha_{ij}}{a_{ij}} b_{3/2}^{\\left(2\\right)}\\left(\\alpha_{ij}\\right)&(i\\ne j)\\\\\n",
    "    A_{ii}&=& & \\frac{G}{4n_{i}a_{i}^{2}}\\sum_{\\substack{j=1\\\\j\\ne i}}^{N}\\frac{m_{j}\\alpha_{ij}}{a_{ij}} b_{3/2}^{\\left(1\\right)}\\left(\\alpha_{ij}\\right)&\\\\\n",
    "    B_{ij}&=& &\\frac{G}{4n_{i}a_{i}^{2}}\\frac{m_{j}\\alpha_{ij}}{a_{ij}} b_{3/2}^{\\left(1\\right)}\\left(\\alpha_{ij}\\right)&(i\\ne j)\\\\\n",
    "    B_{ii}&=& - &\\frac{G}{4n_{i}a_{i}^{2}}\\sum_{\\substack{j=1\\\\j\\ne i}}^{N}\\frac{m_{j}\\alpha_{ij}}{a_{ij}} b_{3/2}^{\\left(1\\right)}\\left(\\alpha_{ij}\\right)&=-A_{ij}\n",
    "\\end{align}"
   ]
  },
  {
   "cell_type": "markdown",
   "metadata": {
    "nbpresent": {
     "id": "68a78d6f-e697-4b43-8ec1-c8c2aab97740"
    }
   },
   "source": [
    "Para efetuar o calculo, foram criadas as funções com as respectivas partes\n",
    "\n",
    "\\begin{align}\n",
    "    \\text{parte1} & = & \\frac{G}{4n_{i}a_{i}^{2}}\\\\\n",
    "    \\text{parte2} & = & \\frac{m_{j}\\alpha_{ij}}{a_{ij}}\\\\\n",
    "    \\text{parte2} & = & b_{3/2}^{\\left(k\\right)}\\left(\\alpha_{ij}\\right)\n",
    "\\end{align}"
   ]
  },
  {
   "cell_type": "code",
   "execution_count": 178,
   "metadata": {
    "collapsed": false,
    "nbpresent": {
     "id": "7efd7490-fc8d-40fe-9f78-af6ff037260a"
    }
   },
   "outputs": [],
   "source": [
    "# Funções para o cálculo das matrizes divida em partes\n",
    "def parte1(i):\n",
    "    return G/(4 * n[i] * a[i]**2)\n",
    "\n",
    "def parte2(i, j):\n",
    "    return (m[j] * al(a[i], a[j])) / max(a[i], a[j])\n",
    "\n",
    "def parte3(k, i, j):\n",
    "    return coeff_laplace(k, al(a[i], a[j]))"
   ]
  },
  {
   "cell_type": "markdown",
   "metadata": {
    "nbpresent": {
     "id": "d4de6ba2-9676-4d1c-88a5-41e850367361"
    }
   },
   "source": [
    "## Matriz A"
   ]
  },
  {
   "cell_type": "code",
   "execution_count": 179,
   "metadata": {
    "collapsed": true,
    "nbpresent": {
     "id": "053499d5-8563-4e17-926f-1b1e84eeb306"
    }
   },
   "outputs": [],
   "source": [
    "# Matriz A\n",
    "A = np.zeros((len_a, len_a))\n",
    "for i in range(0, len_a):\n",
    "    for j in range(0,len_a):\n",
    "        if j != i:\n",
    "            A[i, j] = - parte1(i) * parte2(i, j) * parte3(2, i, j)\n",
    "        else:\n",
    "            p = 0\n",
    "            for k in range(0, len_a):\n",
    "                if k != i:\n",
    "                    p = p + parte2(i, k) * parte3(1, i, k)\n",
    "            A[i, j] = parte1(i) * p\n",
    "\n",
    "\n",
    "# Convertendo a matriz A para unidades de arcsec / yr\n",
    "#A = A * (180/np.pi) * 365.25 * 3600\n",
    "\n",
    "# Convertendo a matriz A para unidades de deg / yr\n",
    "A = A * (180/np.pi) * 365.25\n",
    "\n",
    "# Obtendo a matriz simétrica A\n",
    "A_cal = np.zeros((len_a,len_a))\n",
    "for i in range(0,len_a):\n",
    "    for j in range(0,len_a):\n",
    "        if i == j:\n",
    "            A_cal[i, i] = A[i,i]\n",
    "        else:\n",
    "            A_cal[i, j] = ((a[i] * np.sqrt(m[i] * n[i])) \\\n",
    "                           / (a[j] * np.sqrt(m[j] * n[j]))) * A[i, j]\n",
    "\n",
    "# Obtendo os autovetores e autovalres de A\n",
    "A_eigen = np.linalg.eig(A_cal)"
   ]
  },
  {
   "cell_type": "markdown",
   "metadata": {
    "nbpresent": {
     "id": "6587826f-eff8-4820-8026-117fe57f5d4e"
    }
   },
   "source": [
    "## Matriz B"
   ]
  },
  {
   "cell_type": "code",
   "execution_count": 180,
   "metadata": {
    "collapsed": true,
    "nbpresent": {
     "id": "5e8bdbbf-1595-49b4-9778-0932594afd96"
    }
   },
   "outputs": [],
   "source": [
    "# Matriz B\n",
    "\n",
    "B = np.zeros((len_a, len_a))\n",
    "for i in range(0, len_a):\n",
    "    for j in range(0,len_a):\n",
    "        if j != i:\n",
    "            B[i, j] =  parte1(i) * parte2(i, j) * parte3(1, i, j)\n",
    "        else:\n",
    "            B[i, i] = -A[i, i]\n",
    "\n",
    "\n",
    "# Convertendo a matriz B para unidades de arcsec / yr\n",
    "#B = B * (180/np.pi) * 365.25 * 3600\n",
    "\n",
    "# Convertendo a matriz B para unidades de deg / yr\n",
    "B = B * (180/np.pi) * 365.25\n",
    "\n",
    "# Obtendo a matriz simétrica B\n",
    "B_cal = np.zeros((len_a,len_a))\n",
    "for i in range(0,len_a):\n",
    "    for j in range(0,len_a):\n",
    "        if i == j:\n",
    "            B_cal[i, i] = -A[i,i]\n",
    "        else:\n",
    "            B_cal[i, j] = ((a[i] * np.sqrt(m[i] * n[i])) \\\n",
    "                           / (a[j] * np.sqrt(m[j] * n[j]))) * B[i, j]\n",
    "\n",
    "# Obtendo os autovetores e autovalres de B\n",
    "B_eigen = np.linalg.eig(B_cal)"
   ]
  },
  {
   "cell_type": "markdown",
   "metadata": {
    "nbpresent": {
     "id": "9fa375ec-1bad-452c-9913-16d80af23177"
    }
   },
   "source": [
    "### Matrizes A e B e seus respectivos autovetores e autovalores"
   ]
  },
  {
   "cell_type": "code",
   "execution_count": 181,
   "metadata": {
    "collapsed": false,
    "nbpresent": {
     "id": "23498cd2-fba9-468a-8cda-89a4bf7c0521"
    }
   },
   "outputs": [
    {
     "name": "stdout",
     "output_type": "stream",
     "text": [
      "Resultados em deg/yr\n",
      "--------------------\n",
      "\n",
      "\n",
      " Matriz simétrica A\n",
      "\n",
      "[[ 0.00203832 -0.00208916]\n",
      " [-0.00208916  0.00502575]]\n",
      "\n",
      " Autovetores de A\n",
      "[[-0.88927338  0.45737605]\n",
      " [-0.45737605 -0.88927338]]\n",
      "\n",
      " Autovalores de A\n",
      "[ 0.00096381  0.00610026]\n",
      "\n",
      " Matriz simétrica B\n",
      "[[-0.00203832  0.00320064]\n",
      " [ 0.00320064 -0.00502575]]\n",
      "\n",
      " Autovetores de B\n",
      "[[ 0.84347654 -0.53716602]\n",
      " [ 0.53716602  0.84347654]]\n",
      "\n",
      " Autovalores de B\n",
      "[  8.67361738e-19  -7.06406493e-03]\n"
     ]
    }
   ],
   "source": [
    "# Resultados\n",
    "\n",
    "#print('Resultados em arcsec/yr')\n",
    "#print('--------------------\\n')\n",
    "\n",
    "print('Resultados em deg/yr')\n",
    "print('--------------------\\n')\n",
    "\n",
    "print('\\n Matriz simétrica A')\n",
    "print(A_cal)\n",
    "\n",
    "print('\\n Autovetores de A')\n",
    "print(A_eigen[1])\n",
    "\n",
    "print('\\n Autovalores de A')\n",
    "print(A_eigen[0])\n",
    "\n",
    "print('\\n Matriz simétrica B')\n",
    "print(B_cal)\n",
    "\n",
    "print('\\n Autovetores de B')\n",
    "print(B_eigen[1])\n",
    "\n",
    "print('\\n Autovalores de B')\n",
    "print(B_eigen[0])"
   ]
  },
  {
   "cell_type": "markdown",
   "metadata": {},
   "source": [
    "## Condições de contorno\n",
    "\n",
    "### Cálculo das variáveis regulares\n",
    "\n",
    "\\begin{equation}\n",
    "    \\begin{array}{cc}\n",
    "        h_j = e_j\\sin(\\varpi_j) & k_j = e_j\\cos(\\varpi_j) \\\\\n",
    "        p_j = I_j\\sin(\\Omega_j) & q_j = I_j\\cos(\\Omega_j)\n",
    "    \\end{array}\n",
    "\\end{equation}"
   ]
  },
  {
   "cell_type": "code",
   "execution_count": 182,
   "metadata": {
    "collapsed": true
   },
   "outputs": [],
   "source": [
    "h =  k = p = q = np.zeros(len_a)\n",
    "\n",
    "for j in range(0,len_a):\n",
    "    h[j] = e[j] * np.sin(varpi[j])\n",
    "    k[j] = e[j] * np.cos(varpi[j])\n",
    "    p[j] = inc[j] * np.sin(capom[j])\n",
    "    q[j] = inc[j] * np.cos(capom[j])"
   ]
  },
  {
   "cell_type": "code",
   "execution_count": 183,
   "metadata": {
    "collapsed": false
   },
   "outputs": [
    {
     "data": {
      "text/plain": [
       "array([ 1.15115136,  2.4863322 ])"
      ]
     },
     "execution_count": 183,
     "metadata": {},
     "output_type": "execute_result"
    }
   ],
   "source": [
    "#omega1 = np.pi * omega1 / 180\n",
    "h"
   ]
  },
  {
   "cell_type": "code",
   "execution_count": null,
   "metadata": {
    "collapsed": true
   },
   "outputs": [],
   "source": []
  }
 ],
 "metadata": {
  "anaconda-cloud": {},
  "kernelspec": {
   "display_name": "Python [Root]",
   "language": "python",
   "name": "Python [Root]"
  },
  "language_info": {
   "codemirror_mode": {
    "name": "ipython",
    "version": 3
   },
   "file_extension": ".py",
   "mimetype": "text/x-python",
   "name": "python",
   "nbconvert_exporter": "python",
   "pygments_lexer": "ipython3",
   "version": "3.5.2"
  },
  "nbpresent": {
   "slides": {
    "08688f81-6f58-4281-8e33-d1fe031e068f": {
     "id": "08688f81-6f58-4281-8e33-d1fe031e068f",
     "prev": "a4c733c2-b79f-4eed-8321-c51309d3b594",
     "regions": {
      "1bf8aabc-bccd-4394-bee4-d838d43b5ca8": {
       "attrs": {
        "height": 0.8,
        "width": 0.8,
        "x": 0.1,
        "y": 0.1
       },
       "content": {
        "cell": "5e8bdbbf-1595-49b4-9778-0932594afd96",
        "part": "whole"
       },
       "id": "1bf8aabc-bccd-4394-bee4-d838d43b5ca8"
      }
     }
    },
    "0e08f131-3c79-4628-ad0d-c628f654a8ab": {
     "id": "0e08f131-3c79-4628-ad0d-c628f654a8ab",
     "prev": "d4dde4d3-858e-4a76-9d2c-0990fe43093c",
     "regions": {
      "80fb2087-a127-4a0c-aa86-58060a53322d": {
       "attrs": {
        "height": 0.8,
        "width": 0.8,
        "x": 0.1,
        "y": 0.1
       },
       "content": {
        "cell": "7c7499e2-3113-4f6d-ac3d-1f47c22a357d",
        "part": "whole"
       },
       "id": "80fb2087-a127-4a0c-aa86-58060a53322d"
      }
     }
    },
    "13fe6b3e-bd0a-430d-a3b1-5518a5b6bba1": {
     "id": "13fe6b3e-bd0a-430d-a3b1-5518a5b6bba1",
     "prev": "e59cbb1f-b867-4505-bac7-48e66d65318d",
     "regions": {
      "13b2f486-01ca-4b07-bf2d-1f5cb24f9864": {
       "attrs": {
        "height": 0.8,
        "width": 0.8,
        "x": 0.1,
        "y": 0.1
       },
       "content": {
        "cell": "d48fb58d-9731-4114-97a3-8bc0b0a1a085",
        "part": "whole"
       },
       "id": "13b2f486-01ca-4b07-bf2d-1f5cb24f9864"
      }
     }
    },
    "207760b0-66da-40d3-8032-4891da62b706": {
     "id": "207760b0-66da-40d3-8032-4891da62b706",
     "prev": "347089ad-64db-4c8f-a1c6-5eb2f634ee5a",
     "regions": {
      "6530e075-425d-43f5-80dd-4dba2787eae4": {
       "attrs": {
        "height": 0.8,
        "width": 0.8,
        "x": 0.1,
        "y": 0.1
       },
       "content": {
        "cell": "053499d5-8563-4e17-926f-1b1e84eeb306",
        "part": "whole"
       },
       "id": "6530e075-425d-43f5-80dd-4dba2787eae4"
      }
     }
    },
    "279d9f22-bb91-4522-ad4c-ec6211ebb287": {
     "id": "279d9f22-bb91-4522-ad4c-ec6211ebb287",
     "prev": "13fe6b3e-bd0a-430d-a3b1-5518a5b6bba1",
     "regions": {
      "bc224aa3-c727-486f-9631-7cbf92b467c6": {
       "attrs": {
        "height": 0.8,
        "width": 0.8,
        "x": 0.1,
        "y": 0.1
       },
       "content": {
        "cell": "9fa375ec-1bad-452c-9913-16d80af23177",
        "part": "whole"
       },
       "id": "bc224aa3-c727-486f-9631-7cbf92b467c6"
      }
     }
    },
    "347089ad-64db-4c8f-a1c6-5eb2f634ee5a": {
     "id": "347089ad-64db-4c8f-a1c6-5eb2f634ee5a",
     "prev": "3c0462ad-d274-4476-bec7-ed71e59c4f2b",
     "regions": {
      "444a70fb-667e-4de6-8781-c3f2d2fce180": {
       "attrs": {
        "height": 0.8,
        "width": 0.8,
        "x": 0.1,
        "y": 0.1
       },
       "content": {
        "cell": "d4de6ba2-9676-4d1c-88a5-41e850367361",
        "part": "whole"
       },
       "id": "444a70fb-667e-4de6-8781-c3f2d2fce180"
      }
     }
    },
    "39aa11d9-f88b-486f-8b05-a57480c52c41": {
     "id": "39aa11d9-f88b-486f-8b05-a57480c52c41",
     "prev": "279d9f22-bb91-4522-ad4c-ec6211ebb287",
     "regions": {
      "b0077214-2e2f-4fb2-8055-c35b494a52bd": {
       "attrs": {
        "height": 0.8,
        "width": 0.8,
        "x": 0.1,
        "y": 0.1
       },
       "content": {
        "cell": "23498cd2-fba9-468a-8cda-89a4bf7c0521",
        "part": "whole"
       },
       "id": "b0077214-2e2f-4fb2-8055-c35b494a52bd"
      }
     }
    },
    "3a7ffd40-5dcd-414a-b9ba-29eff6a0cb8d": {
     "id": "3a7ffd40-5dcd-414a-b9ba-29eff6a0cb8d",
     "prev": "bc384d76-1f69-49ce-98f5-b529118057c4",
     "regions": {
      "99e519e1-beef-4c5c-9915-251fdd299c1d": {
       "attrs": {
        "height": 0.8,
        "width": 0.8,
        "x": 0.1,
        "y": 0.1
       },
       "content": {
        "cell": "0eb4383c-274a-4af8-bdd3-19509610c91f",
        "part": "whole"
       },
       "id": "99e519e1-beef-4c5c-9915-251fdd299c1d"
      }
     }
    },
    "3c0462ad-d274-4476-bec7-ed71e59c4f2b": {
     "id": "3c0462ad-d274-4476-bec7-ed71e59c4f2b",
     "prev": "d089a7a5-a497-4c9b-b754-fc82a146cbf1",
     "regions": {
      "b3c484e1-a28d-4f4e-96e7-07d9f8684cac": {
       "attrs": {
        "height": 0.8,
        "width": 0.8,
        "x": 0.1,
        "y": 0.1
       },
       "content": {
        "cell": "7efd7490-fc8d-40fe-9f78-af6ff037260a",
        "part": "whole"
       },
       "id": "b3c484e1-a28d-4f4e-96e7-07d9f8684cac"
      }
     }
    },
    "3f057a87-0b91-462c-9529-5e30115fc0aa": {
     "id": "3f057a87-0b91-462c-9529-5e30115fc0aa",
     "prev": "08688f81-6f58-4281-8e33-d1fe031e068f",
     "regions": {
      "44d989a0-24c0-46ab-b277-04dda229667d": {
       "attrs": {
        "height": 0.8,
        "width": 0.8,
        "x": 0.1,
        "y": 0.1
       },
       "content": {
        "cell": "6d3ff0c4-96de-4150-989c-96df4783fb97",
        "part": "whole"
       },
       "id": "44d989a0-24c0-46ab-b277-04dda229667d"
      }
     }
    },
    "4041e1a8-2d56-44a6-b24a-5d59f29dacde": {
     "id": "4041e1a8-2d56-44a6-b24a-5d59f29dacde",
     "prev": null,
     "regions": {
      "12c380ee-0554-4bb0-956b-88dc89e7e855": {
       "attrs": {
        "height": 0.8,
        "width": 0.8,
        "x": 0.1,
        "y": 0.1
       },
       "content": {
        "cell": "a2c113ea-c520-45cb-88d1-316857b82bf6",
        "part": "whole"
       },
       "id": "12c380ee-0554-4bb0-956b-88dc89e7e855"
      }
     }
    },
    "4a377609-de81-42e7-a2f0-65bc354b4d80": {
     "id": "4a377609-de81-42e7-a2f0-65bc354b4d80",
     "prev": "bd962bb4-207d-4861-a2e1-68ad833a4757",
     "regions": {
      "b3257dae-888b-4c29-9b32-cb2b3594b2b8": {
       "attrs": {
        "height": 0.8,
        "width": 0.8,
        "x": 0.1,
        "y": 0.1
       },
       "content": {
        "cell": "947af6ca-ec79-4706-8734-63dcd2366690",
        "part": "whole"
       },
       "id": "b3257dae-888b-4c29-9b32-cb2b3594b2b8"
      }
     }
    },
    "4f539d0a-5f5b-4d21-bb0b-3869c965745c": {
     "id": "4f539d0a-5f5b-4d21-bb0b-3869c965745c",
     "prev": "9c4d1c5b-de67-4bb9-ade1-19b2d774c8ed",
     "regions": {
      "4174177f-0dbb-4b5d-b818-ccc6f52d9316": {
       "attrs": {
        "height": 0.8,
        "width": 0.8,
        "x": 0.1,
        "y": 0.1
       },
       "content": {
        "cell": "f8359f50-1f29-483d-b0c0-b4abec39a9aa",
        "part": "whole"
       },
       "id": "4174177f-0dbb-4b5d-b818-ccc6f52d9316"
      }
     }
    },
    "8b4b1b69-8915-472e-8640-551ded281c06": {
     "id": "8b4b1b69-8915-472e-8640-551ded281c06",
     "prev": "9f98955a-648c-4d8f-b515-fd304d01c37e",
     "regions": {
      "131e5ea4-536c-4803-bd15-96301bc58679": {
       "attrs": {
        "height": 0.8,
        "width": 0.8,
        "x": 0.1,
        "y": 0.1
       },
       "content": {
        "cell": "46b3a644-de52-46c4-8bc3-bdff38105f9c",
        "part": "whole"
       },
       "id": "131e5ea4-536c-4803-bd15-96301bc58679"
      }
     }
    },
    "9c4d1c5b-de67-4bb9-ade1-19b2d774c8ed": {
     "id": "9c4d1c5b-de67-4bb9-ade1-19b2d774c8ed",
     "prev": "bd0c4509-6b16-43b5-8e0c-6fb48680e5a2",
     "regions": {
      "e1de1622-d09d-4d0e-910a-0fb3d0d3558a": {
       "attrs": {
        "height": 0.8,
        "width": 0.8,
        "x": 0.1,
        "y": 0.1
       },
       "content": {
        "cell": "9d09ec4e-1c1b-4781-8c71-309bcb9e183f",
        "part": "whole"
       },
       "id": "e1de1622-d09d-4d0e-910a-0fb3d0d3558a"
      }
     }
    },
    "9f98955a-648c-4d8f-b515-fd304d01c37e": {
     "id": "9f98955a-648c-4d8f-b515-fd304d01c37e",
     "prev": "4f539d0a-5f5b-4d21-bb0b-3869c965745c",
     "regions": {
      "e89cb9f1-93b9-480c-9aca-b56e67d76883": {
       "attrs": {
        "height": 0.8,
        "width": 0.8,
        "x": 0.1,
        "y": 0.1
       },
       "content": {
        "cell": "de15fe29-f7f5-4e36-a399-4f322d3f7c50",
        "part": "whole"
       },
       "id": "e89cb9f1-93b9-480c-9aca-b56e67d76883"
      }
     }
    },
    "a4c733c2-b79f-4eed-8321-c51309d3b594": {
     "id": "a4c733c2-b79f-4eed-8321-c51309d3b594",
     "prev": "207760b0-66da-40d3-8032-4891da62b706",
     "regions": {
      "550e628e-ee60-4431-ad84-94594d852c75": {
       "attrs": {
        "height": 0.8,
        "width": 0.8,
        "x": 0.1,
        "y": 0.1
       },
       "content": {
        "cell": "6587826f-eff8-4820-8026-117fe57f5d4e",
        "part": "whole"
       },
       "id": "550e628e-ee60-4431-ad84-94594d852c75"
      }
     }
    },
    "bc384d76-1f69-49ce-98f5-b529118057c4": {
     "id": "bc384d76-1f69-49ce-98f5-b529118057c4",
     "prev": "d08a36bb-d623-4803-ac36-7fed1ba99351",
     "regions": {
      "95a9bf2c-3733-4d21-94d1-4e578adb1f79": {
       "attrs": {
        "height": 0.8,
        "width": 0.8,
        "x": 0.1,
        "y": 0.1
       },
       "content": {
        "cell": "32f4d797-e9c5-4d68-9fe5-e52f5eb494dd",
        "part": "whole"
       },
       "id": "95a9bf2c-3733-4d21-94d1-4e578adb1f79"
      }
     }
    },
    "bd0c4509-6b16-43b5-8e0c-6fb48680e5a2": {
     "id": "bd0c4509-6b16-43b5-8e0c-6fb48680e5a2",
     "prev": "3a7ffd40-5dcd-414a-b9ba-29eff6a0cb8d",
     "regions": {
      "22e78dda-bf73-4d8c-a63a-6077a3108824": {
       "attrs": {
        "height": 0.8,
        "width": 0.8,
        "x": 0.1,
        "y": 0.1
       },
       "content": {
        "cell": "1644ac48-51cb-4993-ab1d-73c18bfa9141",
        "part": "whole"
       },
       "id": "22e78dda-bf73-4d8c-a63a-6077a3108824"
      }
     }
    },
    "bd962bb4-207d-4861-a2e1-68ad833a4757": {
     "id": "bd962bb4-207d-4861-a2e1-68ad833a4757",
     "prev": "da92aa1e-7b74-49d7-9c99-3ec51870c575",
     "regions": {
      "dd6c51d7-a743-4b11-9f73-65ae0a4de752": {
       "attrs": {
        "height": 0.8,
        "width": 0.8,
        "x": 0.1,
        "y": 0.1
       },
       "content": {
        "cell": "8d168dcf-7539-466f-9bb5-34bcf8da7cbb",
        "part": "whole"
       },
       "id": "dd6c51d7-a743-4b11-9f73-65ae0a4de752"
      }
     }
    },
    "bfec82e2-ef72-4523-8433-aa3aec569ce7": {
     "id": "bfec82e2-ef72-4523-8433-aa3aec569ce7",
     "prev": "0e08f131-3c79-4628-ad0d-c628f654a8ab",
     "regions": {
      "fe5e26ff-2ddf-4ef9-94c4-228afe31bbd8": {
       "attrs": {
        "height": 0.8,
        "width": 0.8,
        "x": 0.1,
        "y": 0.1
       },
       "content": {
        "cell": "a4ea27ed-b28b-4df3-8678-bdf03ee60fbe",
        "part": "whole"
       },
       "id": "fe5e26ff-2ddf-4ef9-94c4-228afe31bbd8"
      }
     }
    },
    "d089a7a5-a497-4c9b-b754-fc82a146cbf1": {
     "id": "d089a7a5-a497-4c9b-b754-fc82a146cbf1",
     "prev": "8b4b1b69-8915-472e-8640-551ded281c06",
     "regions": {
      "beba87bc-4e33-46de-b076-95422b49275e": {
       "attrs": {
        "height": 0.8,
        "width": 0.8,
        "x": 0.1,
        "y": 0.1
       },
       "content": {
        "cell": "68a78d6f-e697-4b43-8ec1-c8c2aab97740",
        "part": "whole"
       },
       "id": "beba87bc-4e33-46de-b076-95422b49275e"
      }
     }
    },
    "d08a36bb-d623-4803-ac36-7fed1ba99351": {
     "id": "d08a36bb-d623-4803-ac36-7fed1ba99351",
     "prev": "4a377609-de81-42e7-a2f0-65bc354b4d80",
     "regions": {
      "f0b5cbfd-9303-47f5-a47b-638a6f81ba42": {
       "attrs": {
        "height": 0.8,
        "width": 0.8,
        "x": 0.1,
        "y": 0.1
       },
       "content": {
        "cell": "dac09f99-ed07-44d6-871c-fd5901167fa2",
        "part": "whole"
       },
       "id": "f0b5cbfd-9303-47f5-a47b-638a6f81ba42"
      }
     }
    },
    "d4dde4d3-858e-4a76-9d2c-0990fe43093c": {
     "id": "d4dde4d3-858e-4a76-9d2c-0990fe43093c",
     "prev": "4041e1a8-2d56-44a6-b24a-5d59f29dacde",
     "regions": {
      "83de173d-5c8b-40ff-839c-2a69005f0eab": {
       "attrs": {
        "height": 0.8,
        "width": 0.8,
        "x": 0.1,
        "y": 0.1
       },
       "content": {
        "cell": "1e9667ec-f6e0-41cd-bafb-6a3914a971a5",
        "part": "whole"
       },
       "id": "83de173d-5c8b-40ff-839c-2a69005f0eab"
      }
     }
    },
    "da92aa1e-7b74-49d7-9c99-3ec51870c575": {
     "id": "da92aa1e-7b74-49d7-9c99-3ec51870c575",
     "prev": "bfec82e2-ef72-4523-8433-aa3aec569ce7",
     "regions": {
      "572bbb4c-66c1-46aa-8c2b-d5f603576eed": {
       "attrs": {
        "height": 0.8,
        "width": 0.8,
        "x": 0.1,
        "y": 0.1
       },
       "content": {
        "cell": "cd4aff3f-e863-4a73-8922-83d7d4537196",
        "part": "whole"
       },
       "id": "572bbb4c-66c1-46aa-8c2b-d5f603576eed"
      }
     }
    },
    "e59cbb1f-b867-4505-bac7-48e66d65318d": {
     "id": "e59cbb1f-b867-4505-bac7-48e66d65318d",
     "prev": "3f057a87-0b91-462c-9529-5e30115fc0aa",
     "regions": {
      "0d5421c6-9408-4d51-b26c-0f6a05af4dce": {
       "attrs": {
        "height": 0.8,
        "width": 0.8,
        "x": 0.1,
        "y": 0.1
       },
       "content": {
        "cell": "7253ace0-c54e-49ec-8544-85a82bd42542",
        "part": "whole"
       },
       "id": "0d5421c6-9408-4d51-b26c-0f6a05af4dce"
      }
     }
    }
   },
   "themes": {}
  }
 },
 "nbformat": 4,
 "nbformat_minor": 0
}
