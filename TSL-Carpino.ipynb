{
 "cells": [
  {
   "cell_type": "markdown",
   "metadata": {
    "nbpresent": {
     "id": "a2c113ea-c520-45cb-88d1-316857b82bf6"
    }
   },
   "source": [
    "# Teoria Secular Linear\n",
    "\n",
    "O objetivo deste notebook é aplicar a Teoria Secular Linear a um exemplo extraído de Carpino *Teoria lineare delle perturbazioni secolari* (o texto está em italiano). O arquivo pode ser baixado [neste site](http://www.brera.mi.astro.it/~carpino/didattica/lagrange.pdf). \n",
    "\n",
    "## Definições\n",
    "* $a$: Semieixo maior\n",
    "* $e$: Excentricidade\n",
    "* $I$: Inclinação\n",
    "* $\\Omega$: Longitude do nodo ascendente\n",
    "* $\\omega$: Argumento do periélio\n",
    "* $M$: Anomalia média\n",
    "* $\\varpi = \\Omega + \\omega$: Longitude do periélio\n",
    "* $\\lambda = M + \\varpi$: Longitude média "
   ]
  },
  {
   "cell_type": "markdown",
   "metadata": {},
   "source": [
    "## Equações planetárias de Lagrange\n",
    "Para aplicar a Teoria Secular Linear, partirmos das *Equações Planetárias de Lagrange*,\n",
    "\n",
    "\\begin{align}\n",
    "    \\frac{d a}{d t}&=\\frac{2}{na}\\frac{\\partial\\mathcal{R}}{\\partial\\lambda}\\\\\n",
    "    \\frac{d e}{d t}&=-\\frac{\\sqrt{1-e^{2}}}{na^{2}e}\\frac{\\partial\\mathcal{R}}{\\partial\\varpi}-\\frac{\\sqrt{1-e^{2}}\\left(1-\\sqrt{1-e^{2}}\\right)}{na^{2}e}\\frac{\\partial\\mathcal{R}}{\\partial\\lambda}\\\\\n",
    "    \\frac{d\\varpi}{d t}&=\\frac{\\sqrt{1-e^{2}}}{na^{2}e}\\frac{\\partial\\mathcal{R}}{\\partial e}+\\frac{\\tan\\left(\\frac{I}{2}\\right)}{na^{2}\\sqrt{1-e^{2}}}\\frac{\\partial\\mathcal{R}}{\\partial I}\\\\\n",
    "    \\frac{d I}{d t}&=-\\frac{1}{na^{2}\\sqrt{1-e^{2}}\\sin I}\\frac{\\partial\\mathcal{R}}{\\partial\\Omega}-\\frac{\\tan\\left(\\frac{I}{2}\\right)}{na^{2}\\sqrt{1-e^{2}}}\\left(\\frac{\\partial\\mathcal{R}}{\\partial\\varpi}+\\frac{\\partial\\mathcal{R}}{\\partial\\lambda}\\right)\\\\\n",
    "    \\frac{d\\Omega}{d t}&=\\frac{1}{na^{2}\\sqrt{1-e^{2}}\\sin I}\\frac{\\partial\\mathcal{R}}{\\partial I}\\\\\n",
    "    \\frac{d\\epsilon}{d t}&=\\frac{2}{na}\\frac{\\partial\\mathcal{R}}{\\partial a}+\\frac{\\sqrt{1-e^{2}}\\left(1-\\sqrt{1-e^{2}}\\right)}{na^{2}e}\\frac{\\partial\\mathcal{R}}{\\partial e}+\\frac{\\tan\\left(\\frac{I}{2}\\right)}{na^{2}\\sqrt{1-e^{2}}}\\frac{\\partial\\mathcal{R}}{\\partial I}\n",
    "\\end{align}\n",
    "\n",
    "onde $\\mathcal{R}$ é a função parturbadora. "
   ]
  },
  {
   "cell_type": "markdown",
   "metadata": {},
   "source": [
    "## Regularização das variáveis\n",
    "As equações planetárias de Lagrage apresentam singularidades quando $e = 0$ e $I = 0$. Fazemos, então, uma mudança de variável:\n",
    "\n",
    "\\begin{align}\n",
    "    h &= e \\sin{\\varpi} \\\\\n",
    "    k &= e \\cos{\\varpi} \\\\\n",
    "    p &= \\sin{I}\\sin{\\Omega} \\\\\n",
    "    q &= \\sin{I}\\cos{\\Omega}\n",
    "\\end{align}\n",
    "\n",
    "Assim, as equações planetárias ficam, \n",
    "\n",
    "\\begin{align}\n",
    "    \\frac{d a}{d t} &=0\\\\\n",
    "    \\frac{d h}{d t} &=\\frac{1}{na^{2}}\\frac{\\partial\\mathcal{R}}{\\partial k}\\\\\n",
    "    \\frac{d k}{d t} &=-\\frac{1}{na^{2}}\\frac{\\partial\\mathcal{R}}{\\partial h}\\\\\n",
    "    \\frac{d q}{d t} &=-\\frac{1}{na^{2}}\\frac{\\partial\\mathcal{R}}{\\partial p}\\\\\n",
    "    \\frac{d p}{d t} &=\\frac{1}{na^{2}}\\frac{\\partial\\mathcal{R}}{\\partial q}\n",
    "\\end{align}"
   ]
  },
  {
   "cell_type": "markdown",
   "metadata": {},
   "source": [
    "## A função perturbadora\n",
    "Escrevendo a função pertubadora $\\mathcal{R}$ em função das variáveis regulares\n",
    "\n",
    "\\begin{split}\\mathcal{R}=\\frac{Gm'}{a'} & \\left[\\frac{1}{2}b_{\\frac{1}{2}}^{\\left(0\\right)}+\\frac{1}{8}\\alpha\\,b_{\\frac{3}{2}}^{\\left(1\\right)}\\left(h^{2}+k^{2}+h'^{2}+k'^{2}\\right)\\right.\\\\\n",
    " & -\\frac{1}{4}\\alpha\\,b_{\\frac{3}{2}}^{\\left(2\\right)}\\left(hh'+kk'\\right)\\\\\n",
    " & -\\frac{1}{8}\\alpha\\,b_{\\frac{3}{2}}^{\\left(1\\right)}\\left[p^{2}+q^{2}+p'^{2}+q'^{2}-2\\left(qq'+pp'\\right)\\right]\\biggr]\\\\\n",
    " & +\\mathcal{O}\\left(h^{4},\\,k^{4},\\,p^{4},\\,q^{4}\\right)\n",
    "\\end{split}\n",
    "\n",
    "onde \n",
    "\n",
    "$$\n",
    "b_{\\psi}^{\\left(k\\right)}\\left(\\xi\\right)=\\frac{1}{\\pi}\\int_{0}^{2\\pi}\\left[1-2\\xi\\cos\\theta+\\xi^{2}\\right]^{-\\psi}\\cos\\left(k\\theta\\right)\\,d \\theta\n",
    "$$\n",
    "são os coeficientes de Laplace e\n",
    "\n",
    "\\begin{align}\n",
    "    a_{ij}      &=\\text{max}\\left\\{ a_{i},\\,a_{j}\\right\\} \\\\\n",
    "    \\alpha_{ij} &=\\frac{\\text{min}\\left\\{ a_{i},\\,a_{j}\\right\\} }{\\text{max}\\left\\{ a_{i},\\,a_{j}\\right\\} }\n",
    "\\end{align}"
   ]
  },
  {
   "cell_type": "markdown",
   "metadata": {},
   "source": [
    "## Equações linearizadas de Lagrange\n",
    "Substituindo a variáveis regulares e os coeficientes de Laplace, temos as equações linearizadas de Lagrange\n",
    "\\begin{align}\n",
    "\\frac{d a_{i}}{d t}&=0\\\\\n",
    "\\frac{d k_{i}}{d t}&=-\\frac{1}{n_{i}a_{i}^{2}}\\sum_{\\substack{j=1\\\\ j\\neq i }}^{N}\\frac{\\partial\\mathcal{R}_{ij}}{\\partial h_{j}}\\\\\n",
    "\\frac{d h_{i}}{d t}&=\\frac{1}{n_{i}a_{i}^{2}}\\sum_{\\substack{j=1\\\\j\\neq i }}^{N}\\frac{\\partial\\mathcal{R}_{ij}}{\\partial k_{j}}\\\\\n",
    "\\frac{d q_{i}}{d t}&=-\\frac{1}{n_{i}a_{i}^{2}}\\sum_{\\substack{j=1\\\\j\\neq i}}^{N}\\frac{\\partial\\mathcal{R}_{ij}}{\\partial p_{j}}\\\\\n",
    "\\frac{d p_{i}}{d t}&=\\frac{1}{n_{i}a_{i}^{2}}\\sum_{\\substack{j=1\\\\j\\neq i }}\\frac{\\partial\\mathcal{R}_{ij}}{\\partial q_{j}}\n",
    "\\end{align}"
   ]
  },
  {
   "cell_type": "markdown",
   "metadata": {},
   "source": [
    "Que podem ser simplificadas por\n",
    "\\begin{align}\n",
    "    \\frac{d k_{i}}{d t}&=-\\sum_{\\substack{j=1}}^{N}A_{ij}h_{j}\\\\\n",
    "    \\frac{d h_{i}}{D t}&=\\sum_{\\substack{j=1}}^{N}A_{ij}k_{j}\\\\\n",
    "    \\frac{d q_{i}}{d t}&=-\\sum_{\\substack{j=1}}^{N}B_{ij}p_{j}\\\\\n",
    "    \\frac{d p_{i}}{d t}&=\\sum_{\\substack{j=1}}^{N}B_{ij}h_{j}\n",
    "\\end{align}"
   ]
  },
  {
   "cell_type": "markdown",
   "metadata": {},
   "source": [
    "onde\n",
    "\n",
    "\\begin{align}\n",
    "    A_{ij}&=-\\frac{G}{4n_{i}a_{i}^{2}}\\frac{m_{j}\\alpha_{ij}}{a_{ij}}b_{3/2}^{(2)}(\\alpha_{ij}),\\;(i\\ne j)\\\\\n",
    "    A_{ii}&=\\frac{G}{4n_{i}a_{i}^{2}}\\sum_{\\substack{j=1\\\\j\\ne i}}^{N}\\frac{m_{j}\\alpha_{ij}}{a_{ij}}b_{3/2}^{(1)}(\\alpha_{ij})\\\\\n",
    "    B_{ij}&=\\frac{G}{4n_{i}a_{i}^{2}}\\frac{m_{j}\\alpha_{ij}}{a_{ij}}b_{3/2}^{(1)}(\\alpha_{ij}), \\;(i\\ne j)\\\\\n",
    "    B_{ii}&=-\\frac{G}{4n_{i}a_{i}^{2}}\\sum_{\\substack{j=1\\\\j\\ne i}}^{N}\\frac{m_{j}\\alpha_{ij}}{a_{ij}}b_{3/2}^{(1)}(\\alpha_{ij})=-A_{ij}\n",
    "\\end{align}"
   ]
  },
  {
   "cell_type": "markdown",
   "metadata": {},
   "source": [
    "## Transformação de escalas e matrizes simétricas\n",
    "Aplicando uma transformação de escalas, obtemos as matrizes $A$ e $B$ simétricas\n",
    "\n",
    "\\begin{align}\n",
    "    \\mathcal{A}_{ij}&=\\frac{a_{i}\\sqrt{m_{i}n_{i}}}{a_{j}\\sqrt{m_{j}n_{j}}}A_{ij}\\\\\n",
    "    \\mathcal{A}_{ii}&=A_{ii}\\\\\n",
    "    \\mathcal{B}_{ij}&=\\frac{a_{i}\\sqrt{m_{i}n_{i}}}{a_{j}\\sqrt{m_{j}n_{j}}}B_{ij}\\\\\n",
    "    \\mathcal{B}_{ii}&=B_{ii}=-A_{ii}=-\\mathcal{A}_{ii}\n",
    "\\end{align}"
   ]
  },
  {
   "cell_type": "markdown",
   "metadata": {},
   "source": [
    "## Soluções\n",
    "Para resolvermos o problema de autovalor\n",
    "$$\n",
    "    \\frac{d \\Phi_{i}}{d t}=i\\sum_{j=1}^{N}\\mathcal{A}_{ij}\\Phi_{j},\\qquad\n",
    "    \\frac{d \\Psi_{i}}{d t}=i\\sum_{j=1}^{N}\\mathcal{B}_{ij}\\Psi_{j}\n",
    "$$"
   ]
  },
  {
   "cell_type": "markdown",
   "metadata": {},
   "source": [
    "podemos propor soluções do tipo\n",
    "$$\n",
    "    \\Phi_{i} =\tg_{i}\\exp\\left(i\\gamma t\\right),\\qquad\n",
    "    \\Psi_{i}  =\ts_{i}\\exp\\left(i\\sigma t\\right).\n",
    "$$"
   ]
  },
  {
   "cell_type": "markdown",
   "metadata": {},
   "source": [
    "Para encontrarmos os autovalores e autovetores, fazemos\n",
    "$$\n",
    "    \\sum_{j=1}^{N}\\left(\\mathcal{A}_{ij}-\\gamma\\delta_{ij}\\right)g_{i}\t=\t0, \\qquad\n",
    "    \\sum_{j=1}^{N}\\left(\\mathcal{B}_{ij}-\\sigma\\delta_{ij}\\right)s_{i}\t=\t0\n",
    "$$"
   ]
  },
  {
   "cell_type": "markdown",
   "metadata": {},
   "source": [
    "Representando cada um dos autovalores $g_{i}$ e $s_{i}$ na forma\n",
    "$$\n",
    "g_{i}^{\\left(j\\right)}=\\mathcal{G}_{ij}\\Gamma_{j}\\exp\\left(i\\eta_{j}\\right),\\qquad s_{i}^{\\left(j\\right)}=\\mathcal{S}_{ij}\\Sigma_{j}\\exp\\left(i\\nu_{j}\\right)\\qquad \\left(j=1,\\,\\cdots,\\,N\\right),\n",
    "$$\n",
    "onde $\\Gamma_{j},\\,\\eta_{j},\\,\\Sigma_{j},\\,\\nu_{i}$ são constantes reais."
   ]
  },
  {
   "cell_type": "markdown",
   "metadata": {},
   "source": [
    "#### Solução Geral\n",
    "A solução geral pode ser representada como\n",
    "\n",
    "\\begin{align}\\Phi_{i}\\left(t\\right) &= \\sum_{j=1}^{N}\\mathcal{G}_{ij}\\Gamma_{j}\\exp\\left[i\\left(\\gamma_{j}t+\\eta_{j}\\right)\\right]\\\\\n",
    "\\Psi_{i}\\left(t\\right) &= \\sum_{j=1}^{N}\\mathcal{S}_{ij}\\Sigma_{j}\\exp\\left[i\\left(\\sigma_{j}t+\\nu_{j}\\right)\\right]\n",
    "\\end{align}"
   ]
  },
  {
   "cell_type": "markdown",
   "metadata": {},
   "source": [
    "que, substituindo na equação diferencial acima, nos dá a equação do polinômio característico,\n",
    "\n",
    "\\begin{align}\n",
    "\\sum_{j=1}^{N}\\left(\\mathcal{A}_{ij}-\\gamma\\delta_{ij}\\right)g_{i} &= 0\\\\\n",
    "\\sum_{j=1}^{N}\\left(\\mathcal{B}_{ij}-\\sigma\\delta_{ij}\\right)s_{i} &= 0\n",
    "\\end{align}"
   ]
  },
  {
   "cell_type": "markdown",
   "metadata": {},
   "source": [
    "Nestas expressões, $\\mathcal{G}_{ik}$ e $\\mathcal{S}_{ik}$ são as componentes dos autovetores associados aos autovalores $\\gamma_{k}$ e $\\sigma_{k}$ respectivamente e determinam os modos de oscilação do sistema."
   ]
  },
  {
   "cell_type": "markdown",
   "metadata": {},
   "source": [
    "Para se resolver o sistema indeterminado acima, fixamos as componentes $\\mathcal{G}_{kk}$ e $\\mathcal{S}_{kk}$ de cada autovetor, por meio das condições iniciais\n",
    "\\begin{align}\n",
    "\\Phi_{k}(0) & = \\mathcal{G}_{kk}\\Gamma_{k}\\exp(i\\eta_{k}) = a_{k}\\sqrt{m_{k}n_{k}}e_{k0}\\exp(i\\varpi_{k0})\\\\\n",
    "\\Psi_{k}(0) & = \\mathcal{S}_{kk}\\Sigma_{k}\\exp(i\\nu_{k})  = a_{k}\\sqrt{m_{k}n_{k}}\\sin I_{k0}\\exp(i\\Omega_{k0})\n",
    "\\end{align}"
   ]
  },
  {
   "cell_type": "markdown",
   "metadata": {},
   "source": [
    "Assim, ficam determinadas também as fases $\\eta_{k}$ e $\\nu_{k}$. Os valores $\\mathcal{G}_{kk}\\Gamma_{k}$ e $\\mathcal{S}_{kk}\\Sigma_{k}$ são as amplitudes de excitação."
   ]
  },
  {
   "cell_type": "markdown",
   "metadata": {},
   "source": [
    "Retornando as variáveis originais,\n",
    "\n",
    "\\begin{align}\n",
    "    \\phi_{i}\\left(t\\right) & = \\sum_{j=1}^{N}G_{ij}\\Gamma_{j}\\exp\\left[i\\left(\\gamma_{j}t+\\eta_{j}\\right)\\right] = e_{i}\\exp\\left[i\\varpi_{i}\\right]\\\\\n",
    "    \\psi_{i}\\left(t\\right) & = \\sum_{j=1}^{N}S_{ij}\\Sigma_{j}\\exp\\left[i\\left(\\sigma_{j}t+\\nu_{j}\\right)\\right]  = \\sin I_{i}\\exp\\left[i\\Omega_{i}\\right]\n",
    "\\end{align}"
   ]
  },
  {
   "cell_type": "markdown",
   "metadata": {},
   "source": [
    "onde os coeficientes são dados por \n",
    "\n",
    "$$\n",
    "    G_{ij}=\\frac{\\mathcal{G}_{ij}}{a_{i}\\sqrt{m_{i}n_{i}}}\\qquad\n",
    "    S_{ij}=\\frac{\\mathcal{S}_{ij}}{a_{i}\\sqrt{m_{i}n_{i}}}\n",
    "$$"
   ]
  },
  {
   "cell_type": "markdown",
   "metadata": {},
   "source": [
    "## Procedimento para obter a solução das equações\n",
    "* Calcular $\\alpha_{ij}$ para todos os corpos envolvidos\n",
    "* Calcular os coeficientes de Laplace $b_{3/2}^{\\left(1\\right)}\\left(\\alpha_{ij}\\right)$ e $b_{3/2}^{\\left(2\\right)}\\left(\\alpha_{ij}\\right)$\n",
    "* Usando $m_{i}$, calcular os coeficientes das matrizes $\\mathcal{A}_{ij}$ e $\\mathcal{B}_{ij}$\n",
    "* Calcular os autovetores e autovalores das matrizes $\\mathcal{A}_{ij}$ e $\\mathcal{B}_{ij}$ \n",
    "* Calcular os autovetores $G_{ij}$ e $S_{ij}$\n",
    "* Determinar as condições iniciais $\\Gamma_{i},\\,\\eta_{i},\\,\\Sigma,\\,\\nu$ a partir dos elementos médios"
   ]
  },
  {
   "cell_type": "markdown",
   "metadata": {},
   "source": [
    "## Implementação do programa"
   ]
  },
  {
   "cell_type": "code",
   "execution_count": 55,
   "metadata": {
    "collapsed": false,
    "nbpresent": {
     "id": "1e9667ec-f6e0-41cd-bafb-6a3914a971a5"
    }
   },
   "outputs": [],
   "source": [
    "# Importando módulos\n",
    "import numpy as np\n",
    "import pandas as pd\n",
    "from scipy.integrate import quad\n",
    "import os"
   ]
  },
  {
   "cell_type": "markdown",
   "metadata": {
    "nbpresent": {
     "id": "7c7499e2-3113-4f6d-ac3d-1f47c22a357d"
    }
   },
   "source": [
    "## Constantes\n",
    "A constante da gravitação universal $G$ tem o valor para o qual $M_{\\odot} = 1$, ou seja, $[G] =  AU^3 day^{-2} M_{\\odot}^{-1}$"
   ]
  },
  {
   "cell_type": "code",
   "execution_count": 56,
   "metadata": {
    "collapsed": true,
    "nbpresent": {
     "id": "a4ea27ed-b28b-4df3-8678-bdf03ee60fbe"
    }
   },
   "outputs": [],
   "source": [
    "# Constante da gravitação universal\n",
    "G = (0.01720209895)**2 # para o SS AU^3 d^-2 M_sol^-1"
   ]
  },
  {
   "cell_type": "markdown",
   "metadata": {
    "nbpresent": {
     "id": "cd4aff3f-e863-4a73-8922-83d7d4537196"
    }
   },
   "source": [
    "## Massa do Sol"
   ]
  },
  {
   "cell_type": "code",
   "execution_count": 57,
   "metadata": {
    "collapsed": false,
    "nbpresent": {
     "id": "8d168dcf-7539-466f-9bb5-34bcf8da7cbb"
    }
   },
   "outputs": [],
   "source": [
    "# Massa do Sol\n",
    "M = 1 # Massa unitária para o Sol"
   ]
  },
  {
   "cell_type": "markdown",
   "metadata": {
    "nbpresent": {
     "id": "947af6ca-ec79-4706-8734-63dcd2366690"
    }
   },
   "source": [
    "## Dados dos planetas"
   ]
  },
  {
   "cell_type": "code",
   "execution_count": 58,
   "metadata": {
    "collapsed": false
   },
   "outputs": [],
   "source": [
    "# Leitura dos dados\n",
    "pl = pd.read_fwf('planetas-Carpino.txt')\n",
    "\n",
    "# Lista dos nomes dos planetas\n",
    "planeta = pl['Planeta']\n",
    "\n",
    "# Semieixo maior\n",
    "a = pl['a'] # unidade AU\n",
    "\n",
    "# Comprimento do vetor de semieixos.\n",
    "len_a = len(a)\n",
    "\n",
    "# Criando a coluna varpi\n",
    "# Se a valor de varpi for superior a 360, subtrair 360 graus.\n",
    "pl['varpi'] = pl['capom'] + pl['omega']\n",
    "for i in pl.index:\n",
    "    if pl['varpi'][i] >=360:\n",
    "        pl.loc[i,'varpi'] = pl.loc[i,'varpi'] - 360"
   ]
  },
  {
   "cell_type": "code",
   "execution_count": 59,
   "metadata": {
    "collapsed": false,
    "nbpresent": {
     "id": "dac09f99-ed07-44d6-871c-fd5901167fa2"
    }
   },
   "outputs": [],
   "source": [
    "# Dados das massas\n",
    "m = pl['m'] # Considerando massa unitária para o Sol\n",
    "\n",
    "# Dados dos movimentos médios n calculado\n",
    "n = (G * (M + m)/a**3)**(1/2) # unidade rad/day\n",
    "\n",
    "# Dados dos movimentos médios lidos\n",
    "#n = pl['n'] # deg/day\n",
    "#n = (n * np.pi / 180) # unidade rad/day\n",
    "\n",
    "# Excentricidade\n",
    "e = pl['e']\n",
    "\n",
    "# Inclinação\n",
    "inc = pl['inc'] # unidade deg\n",
    "\n",
    "# Longitude do periastro\n",
    "varpi = pl['varpi'] # unidade deg\n",
    "\n",
    "# Longitude do nodo ascendente\n",
    "capom = pl['capom'] # unidade"
   ]
  },
  {
   "cell_type": "markdown",
   "metadata": {},
   "source": [
    "### Verificando dados de entrada"
   ]
  },
  {
   "cell_type": "code",
   "execution_count": 60,
   "metadata": {
    "collapsed": false
   },
   "outputs": [
    {
     "name": "stdout",
     "output_type": "stream",
     "text": [
      "\n",
      "Dados de entrada\n",
      "------------------\n",
      "\n",
      "   Planeta         m          a         e       inc       capom       omega  \\\n",
      "0  Jupiter  0.000955   5.202582  0.048233  1.304860  100.398551  273.736840   \n",
      "1  Saturno  0.000286   9.545543  0.053913  2.486150  113.863936  340.180810   \n",
      "2    Urano  0.000044  19.194230  0.051343  0.773096   74.102824   97.873259   \n",
      "3   Netuno  0.000051  30.070971  0.004775  1.772198  131.513377  281.633209   \n",
      "\n",
      "          n       varpi  \n",
      "0  0.083091   14.135391  \n",
      "1  0.033555   94.044746  \n",
      "2  0.011643  171.976083  \n",
      "3  0.005944   53.146586  \n",
      "\n",
      "Observação: Unidades\n",
      "------------------\n",
      "\n",
      "    [m]: unidade de massa solar\n",
      "    [a]: AU\n",
      "  [inc]: deg\n",
      "[capom]: deg\n",
      "[omega]: deg\n",
      "    [n]: rad/day\n",
      "[varpi]: deg\n",
      "\n",
      "Observação: Data\n",
      "------------------\n",
      "\n",
      "Os ângulos foram tomados na data 28 de Julho de 1969, no site do JPL da NASA, para ficar de acordo com o o texto de Carpino, na Tabela III, página 27\n"
     ]
    }
   ],
   "source": [
    "print('\\nDados de entrada')\n",
    "print('------------------\\n')\n",
    "print(pl)\n",
    "\n",
    "print('\\nObservação: Unidades')\n",
    "print('------------------\\n')\n",
    "print('    [m]: unidade de massa solar')\n",
    "print('    [a]: AU')\n",
    "print('  [inc]: deg')\n",
    "print('[capom]: deg')\n",
    "print('[omega]: deg')\n",
    "print('    [n]: rad/day')\n",
    "print('[varpi]: deg')\n",
    "\n",
    "print('\\nObservação: Data')\n",
    "print('------------------\\n')\n",
    "print('Os ângulos foram tomados na data 28 de Julho de 1969, no site do JPL da NASA, para ficar de acordo com o \\\n",
    "o texto de Carpino, na Tabela III, página 27')"
   ]
  },
  {
   "cell_type": "markdown",
   "metadata": {
    "nbpresent": {
     "id": "32f4d797-e9c5-4d68-9fe5-e52f5eb494dd"
    }
   },
   "source": [
    "## Definição das funções"
   ]
  },
  {
   "cell_type": "markdown",
   "metadata": {
    "nbpresent": {
     "id": "0eb4383c-274a-4af8-bdd3-19509610c91f"
    }
   },
   "source": [
    "### Função $\\alpha$\n",
    "\n",
    "$$\\alpha_{i, j} = \\frac{\\text{min}\\{a_i, a_j\\}}{\\text{max}\\{a_i, a_j\\}}$$"
   ]
  },
  {
   "cell_type": "code",
   "execution_count": 61,
   "metadata": {
    "collapsed": true,
    "nbpresent": {
     "id": "1644ac48-51cb-4993-ab1d-73c18bfa9141"
    }
   },
   "outputs": [],
   "source": [
    "# Função alpha\n",
    "def al(x, y):\n",
    "    return min(x, y) / max(x, y)"
   ]
  },
  {
   "cell_type": "markdown",
   "metadata": {},
   "source": [
    "### Verificando função $\\alpha$\n",
    "A resultado pode ser verificado no exemplo de [Carpino](http://www.brera.mi.astro.it/~carpino/didattica/lagrange.pdf), página 25. A diagonal não está definida e portanto foi atribuido o valor zero. Como era de se esperar, a matriz é diagonal."
   ]
  },
  {
   "cell_type": "code",
   "execution_count": 62,
   "metadata": {
    "collapsed": false
   },
   "outputs": [
    {
     "name": "stdout",
     "output_type": "stream",
     "text": [
      "\n",
      "Função alfa (página 25)\n",
      "-----------------------\n",
      "\n",
      "[[ 0.          0.54502735  0.27104927  0.17301011]\n",
      " [ 0.54502735  0.          0.49731315  0.31743381]\n",
      " [ 0.27104927  0.49731315  0.          0.63829765]\n",
      " [ 0.17301011  0.31743381  0.63829765  0.        ]]\n"
     ]
    }
   ],
   "source": [
    "M_alpha = np.zeros((len_a, len_a))\n",
    "for i in range(0, len_a):\n",
    "    for j in range(0,len_a):\n",
    "        if j != i:\n",
    "            M_alpha[i, j] = al(a[i], a[j])\n",
    "        else:\n",
    "            M_alpha[i, j] = 0\n",
    "\n",
    "print('\\nFunção alfa (página 25)')\n",
    "print('-----------------------\\n')\n",
    "            \n",
    "print(M_alpha)"
   ]
  },
  {
   "cell_type": "markdown",
   "metadata": {
    "nbpresent": {
     "id": "9d09ec4e-1c1b-4781-8c71-309bcb9e183f"
    }
   },
   "source": [
    "### Coeficientes de Laplace $b_{\\psi}^{k}(\\alpha_{i,j})$\n",
    "\n",
    "$$b_{\\psi}^{\\left(k\\right)}\\left(\\xi\\right)=\\frac{1}{\\pi}\\int_{0}^{2\\pi}\\left[1-2\\xi\\cos\\theta+\\xi^{2}\\right]^{-\\psi}\\cos\\left(k\\theta\\right)\\,d\\theta$$\n",
    "\n",
    "Para nossos propósitos, $\\psi = 3/2$. O valor de $k$ será igual a $1$ ou $2$."
   ]
  },
  {
   "cell_type": "code",
   "execution_count": 63,
   "metadata": {
    "collapsed": true,
    "nbpresent": {
     "id": "f8359f50-1f29-483d-b0c0-b4abec39a9aa"
    }
   },
   "outputs": [],
   "source": [
    "# Função para coeficientes de Laplace\n",
    "def coeff_laplace(K, al):\n",
    "    f = lambda x: (1 - 2 * al * np.cos(x) + al**2)**(-3/2) * np.cos(K * x)\n",
    "    coeff = quad(f, 0, 2*np.pi)\n",
    "    return (1.0 / np.pi) * coeff[0]"
   ]
  },
  {
   "cell_type": "markdown",
   "metadata": {},
   "source": [
    "### Verificando função para os Coeficientes de Laplace $b_{3/2}^{1}(\\alpha_{i,j})$\n",
    "A resultado pode ser verificado no exemplo de [Carpino](http://www.brera.mi.astro.it/~carpino/didattica/lagrange.pdf), página 25. A diagonal não está definida e portanto foi atribuido o valor zero. Como era de se esperar, a matriz é diagonal."
   ]
  },
  {
   "cell_type": "code",
   "execution_count": 64,
   "metadata": {
    "collapsed": false
   },
   "outputs": [
    {
     "name": "stdout",
     "output_type": "stream",
     "text": [
      "\n",
      "Coficientes de Laplace (página 25)\n",
      "----------------------------------\n",
      "\n",
      "[[ 0.          3.18107829  0.93843408  0.54948353]\n",
      " [ 3.18107829  0.          2.54933512  1.16265348]\n",
      " [ 0.93843408  2.54933512  0.          5.15917975]\n",
      " [ 0.54948353  1.16265348  5.15917975  0.        ]]\n"
     ]
    }
   ],
   "source": [
    "M_laplace = np.zeros((len_a, len_a))\n",
    "for i in range(0, len_a):\n",
    "    for j in range(0,len_a):\n",
    "        if j != i:\n",
    "            M_laplace[i, j] = coeff_laplace(1, al(a[i],a[j]))\n",
    "        else:\n",
    "            M_laplace[i, j] = 0\n",
    "            \n",
    "print('\\nCoficientes de Laplace (página 25)')\n",
    "print('----------------------------------\\n')\n",
    "\n",
    "print(M_laplace)"
   ]
  },
  {
   "cell_type": "markdown",
   "metadata": {},
   "source": [
    "### Verificando função para os Coeficientes de Laplace $b_{3/2}^{2}(\\alpha_{i,j})$\n",
    "A resultado pode ser verificado no exemplo de [Carpino](http://www.brera.mi.astro.it/~carpino/didattica/lagrange.pdf), página 26. A diagonal não está definida e portanto foi atribuido o valor zero. Como era de se esperar, a matriz é diagonal."
   ]
  },
  {
   "cell_type": "code",
   "execution_count": 65,
   "metadata": {
    "collapsed": false
   },
   "outputs": [
    {
     "name": "stdout",
     "output_type": "stream",
     "text": [
      "\n",
      "Coficientes de Laplace (página 26)\n",
      "----------------------------------\n",
      "\n",
      "[[ 0.          2.07823728  0.31496336  0.11838393]\n",
      " [ 2.07823728  0.          1.53156676  0.45533047]\n",
      " [ 0.31496336  1.53156676  0.          3.8745933 ]\n",
      " [ 0.11838393  0.45533047  3.8745933   0.        ]]\n"
     ]
    }
   ],
   "source": [
    "M_laplace = np.zeros((len_a, len_a))\n",
    "for i in range(0, len_a):\n",
    "    for j in range(0,len_a):\n",
    "        if j != i:\n",
    "            M_laplace[i, j] = coeff_laplace(2, al(a[i],a[j]))\n",
    "        else:\n",
    "            M_laplace[i, j] = 0\n",
    "            \n",
    "print('\\nCoficientes de Laplace (página 26)')\n",
    "print('----------------------------------\\n')\n",
    "            \n",
    "print(M_laplace)"
   ]
  },
  {
   "cell_type": "markdown",
   "metadata": {},
   "source": [
    "### Definição das funções parciais para o cálculo das matrizes\n",
    "\n",
    "Para efetuar o calculo, foram criadas as funções com as respectivas partes\n",
    "\n",
    "\\begin{align}\n",
    "    \\text{parte1} & = \\frac{G}{4n_{i}a_{i}^{2}}\\\\\n",
    "    \\text{parte2} & = \\frac{m_{j}\\alpha_{ij}}{a_{ij}}\\\\\n",
    "    \\text{parte2} & = b_{3/2}^{\\left(k\\right)}\\left(\\alpha_{ij}\\right)\n",
    "\\end{align}"
   ]
  },
  {
   "cell_type": "code",
   "execution_count": 66,
   "metadata": {
    "collapsed": true
   },
   "outputs": [],
   "source": [
    "# Funções para o cálculo das matrizes divida em partes\n",
    "def parte1(i):\n",
    "    return G/(4 * n[i] * a[i]**2)\n",
    "\n",
    "def parte2(i, j):\n",
    "    return (m[j] * al(a[i], a[j])) / max(a[i], a[j])\n",
    "\n",
    "def parte3(K, i, j):\n",
    "    return coeff_laplace(K, al(a[i], a[j]))"
   ]
  },
  {
   "cell_type": "markdown",
   "metadata": {
    "nbpresent": {
     "id": "46b3a644-de52-46c4-8bc3-bdff38105f9c"
    }
   },
   "source": [
    "## Determinando as matrizes A e B\n",
    "\n",
    "\\begin{align}\n",
    "    A_{ij}&=&-&\\frac{G}{4n_{i}a_{i}^{2}}\\frac{m_{j}\\alpha_{ij}}{a_{ij}} b_{3/2}^{\\left(2\\right)}\\left(\\alpha_{ij}\\right)&(i\\ne j)\\\\\n",
    "    A_{ii}&=& & \\frac{G}{4n_{i}a_{i}^{2}}\\sum_{\\substack{j=1\\\\j\\ne i}}^{N}\\frac{m_{j}\\alpha_{ij}}{a_{ij}} b_{3/2}^{\\left(1\\right)}\\left(\\alpha_{ij}\\right)&\\\\\n",
    "    B_{ij}&=& &\\frac{G}{4n_{i}a_{i}^{2}}\\frac{m_{j}\\alpha_{ij}}{a_{ij}} b_{3/2}^{\\left(1\\right)}\\left(\\alpha_{ij}\\right)&(i\\ne j)\\\\\n",
    "    B_{ii}&=& - &\\frac{G}{4n_{i}a_{i}^{2}}\\sum_{\\substack{j=1\\\\j\\ne i}}^{N}\\frac{m_{j}\\alpha_{ij}}{a_{ij}} b_{3/2}^{\\left(1\\right)}\\left(\\alpha_{ij}\\right)&=-A_{ij}\n",
    "\\end{align}"
   ]
  },
  {
   "cell_type": "markdown",
   "metadata": {
    "nbpresent": {
     "id": "d4de6ba2-9676-4d1c-88a5-41e850367361"
    }
   },
   "source": [
    "## Matriz A"
   ]
  },
  {
   "cell_type": "code",
   "execution_count": 67,
   "metadata": {
    "collapsed": false,
    "nbpresent": {
     "id": "053499d5-8563-4e17-926f-1b1e84eeb306"
    }
   },
   "outputs": [],
   "source": [
    "# Matriz A\n",
    "A = np.zeros((len_a, len_a))\n",
    "for i in range(0, len_a):\n",
    "    for j in range(0,len_a):\n",
    "        if j != i:\n",
    "            A[i, j] = - parte1(i) * parte2(i, j) * parte3(2, i, j)\n",
    "        else:\n",
    "            parcial = 0\n",
    "            for l in range(0, len_a):\n",
    "                if l != i:\n",
    "                    parcial = parcial + parte2(i, l) * parte3(1, i, l)\n",
    "            A[i, j] = parte1(i) * parcial\n",
    "\n",
    "\n",
    "# Convertendo a matriz A para unidades de arcsec / yr\n",
    "A = A * (180/np.pi) * 365.25 * 3600\n",
    "\n",
    "# Convertendo a matriz A para unidades de deg / yr\n",
    "#A = A * (180/np.pi) * 365.25\n",
    "\n",
    "# Obtendo a matriz simétrica A\n",
    "A_cal = np.zeros((len_a,len_a))\n",
    "for i in range(0,len_a):\n",
    "    for j in range(0,len_a):\n",
    "        if i == j:\n",
    "            A_cal[i, i] = A[i,i]\n",
    "        else:\n",
    "            A_cal[i, j] = ((a[i] * np.sqrt(m[i] * n[i])) \\\n",
    "                           / (a[j] * np.sqrt(m[j] * n[j]))) * A[i, j]\n",
    "            \n",
    "# Obtendo os autovetores e autovalres de A\n",
    "A_eigen = np.linalg.eig(A_cal)"
   ]
  },
  {
   "cell_type": "markdown",
   "metadata": {},
   "source": [
    "### Resultados da matriz A\n",
    "A matriz simétrica, na página 26 do texto de Carpino."
   ]
  },
  {
   "cell_type": "code",
   "execution_count": 68,
   "metadata": {
    "collapsed": false
   },
   "outputs": [
    {
     "name": "stdout",
     "output_type": "stream",
     "text": [
      "\n",
      "Resultado da matriz A em arcsec/yr \n",
      "----------------------------------\n",
      "\n",
      "Matriz A\n",
      "[[  7.47741065e+00  -4.81641233e+00  -2.75261424e-02  -4.97644729e-03]\n",
      " [ -1.18794353e+01   1.85515104e+01  -1.81366581e-01  -2.59351874e-02]\n",
      " [ -3.14042309e-01  -8.38934273e-01   2.74887421e+00  -3.12987098e-01]\n",
      " [ -3.84217614e-02  -8.11848729e-02  -2.11807575e-01   6.67666253e-01]]\n",
      "\n",
      " Matriz A simétrica, conforme Carpino, página 26\n",
      "[[  7.47741065e+00  -7.56414296e+00  -9.29751220e-02  -1.38276488e-02]\n",
      " [ -7.56414296e+00   1.85515104e+01  -3.90070046e-01  -4.58862168e-02]\n",
      " [ -9.29751220e-02  -3.90070046e-01   2.74887421e+00  -2.57474345e-01]\n",
      " [ -1.38276488e-02  -4.58862168e-02  -2.57474345e-01   6.67666253e-01]]\n",
      "\n",
      " Autovalores de A simétrica\n",
      "[ 22.39344147   3.71033819   2.70702185   0.63466001]\n",
      "\n",
      " Autovetores de A simétrica\n",
      "[[-0.45214967  0.86249542 -0.22659729  0.01777633]\n",
      " [ 0.89180541  0.43273776 -0.13137248  0.01274398]\n",
      " [-0.01554957 -0.26211065 -0.95691867  0.12394707]\n",
      " [-0.00141149  0.01173435  0.125306    0.99204774]]\n"
     ]
    }
   ],
   "source": [
    "print('\\nResultado da matriz A em arcsec/yr ')\n",
    "print('----------------------------------\\n')\n",
    "\n",
    "print('Matriz A')\n",
    "print(A)\n",
    "\n",
    "print('\\n Matriz A simétrica, conforme Carpino, página 26')\n",
    "print(A_cal)\n",
    "\n",
    "print('\\n Autovalores de A simétrica')\n",
    "print(A_eigen[0])\n",
    "\n",
    "print('\\n Autovetores de A simétrica')\n",
    "print(A_eigen[1])\n",
    "\n"
   ]
  },
  {
   "cell_type": "markdown",
   "metadata": {
    "nbpresent": {
     "id": "6587826f-eff8-4820-8026-117fe57f5d4e"
    }
   },
   "source": [
    "## Matriz B"
   ]
  },
  {
   "cell_type": "code",
   "execution_count": 69,
   "metadata": {
    "collapsed": true,
    "nbpresent": {
     "id": "5e8bdbbf-1595-49b4-9778-0932594afd96"
    }
   },
   "outputs": [],
   "source": [
    "# Matriz B\n",
    "\n",
    "B = np.zeros((len_a, len_a))\n",
    "for i in range(0, len_a):\n",
    "    for j in range(0,len_a):\n",
    "        if j != i:\n",
    "            B[i, j] =  parte1(i) * parte2(i, j) * parte3(1, i, j)\n",
    "        else:\n",
    "            B[i, i] = -A[i, i]\n",
    "\n",
    "\n",
    "# Convertendo a matriz B para unidades de arcsec / yr\n",
    "B = B * (180/np.pi) * 365.25 * 3600\n",
    "\n",
    "# Convertendo a matriz B para unidades de deg / yr\n",
    "#B = B * (180/np.pi) * 365.25\n",
    "\n",
    "# Obtendo a matriz simétrica B\n",
    "B_cal = np.zeros((len_a,len_a))\n",
    "for i in range(0,len_a):\n",
    "    for j in range(0,len_a):\n",
    "        if i == j:\n",
    "            B_cal[i, i] = -A[i,i]\n",
    "        else:\n",
    "            B_cal[i, j] = ((a[i] * np.sqrt(m[i] * n[i])) \\\n",
    "                           / (a[j] * np.sqrt(m[j] * n[j]))) * B[i, j]\n",
    "\n",
    "# Obtendo os autovetores e autovalres de B\n",
    "B_eigen = np.linalg.eig(B_cal)"
   ]
  },
  {
   "cell_type": "markdown",
   "metadata": {
    "nbpresent": {
     "id": "9fa375ec-1bad-452c-9913-16d80af23177"
    }
   },
   "source": [
    "### Resultados da matriz B\n",
    "A matriz simétrica, na página 26 do texto de Carpino."
   ]
  },
  {
   "cell_type": "code",
   "execution_count": 70,
   "metadata": {
    "collapsed": false,
    "nbpresent": {
     "id": "23498cd2-fba9-468a-8cda-89a4bf7c0521"
    }
   },
   "outputs": [
    {
     "name": "stdout",
     "output_type": "stream",
     "text": [
      "\n",
      "Resultado da matriz B em arcsec/yr\n",
      "----------------------------------\n",
      "\n",
      "Matriz B\n",
      "[[ -5.63334812e+08   7.37229807e+00   8.20142077e-02   2.30983705e-02]\n",
      " [  1.81833971e+01  -1.39763778e+09   3.01889677e-01   6.62236286e-02]\n",
      " [  9.35689817e-01   1.39642924e+00  -2.07095291e+08   4.16755146e-01]\n",
      " [  1.78336076e-01   2.07299712e-01   2.82030466e-01  -5.03007874e+07]]\n",
      "\n",
      " Matriz B simétrica, conforme Carpino, página 26\n",
      "[[ -7.47741065  11.57814422   0.2770196    0.06418156]\n",
      " [ 11.57814422 -18.55151041   0.64928235   0.11716714]\n",
      " [  0.2770196    0.64928235  -2.74887421   0.34283764]\n",
      " [  0.06418156   0.11716714   0.34283764  -0.66766625]]\n",
      "\n",
      " Autovalores de B simétrica\n",
      "[ -2.58556130e+01  -2.91078670e+00   1.14057997e-15  -6.79061817e-01]\n",
      "\n",
      " Autovetores de B simétrica\n",
      "[[-0.53275876  0.17828837  0.78504113 -0.26094401]\n",
      " [ 0.84608599  0.09275679  0.49986916 -0.16020453]\n",
      " [-0.01735256 -0.96978826  0.23241867  0.07204987]\n",
      " [-0.00234204  0.1382757   0.28252929  0.94923735]]\n"
     ]
    }
   ],
   "source": [
    "print('\\nResultado da matriz B em arcsec/yr')\n",
    "print('----------------------------------\\n')\n",
    "\n",
    "print('Matriz B')\n",
    "print(B)\n",
    "\n",
    "print('\\n Matriz B simétrica, conforme Carpino, página 26')\n",
    "print(B_cal)\n",
    "\n",
    "print('\\n Autovalores de B simétrica')\n",
    "print(B_eigen[0])\n",
    "\n",
    "print('\\n Autovetores de B simétrica')\n",
    "print(B_eigen[1])"
   ]
  },
  {
   "cell_type": "markdown",
   "metadata": {},
   "source": [
    "### Matrizes rescalonadas\n",
    "$$\n",
    "    G_{ij}=\\frac{\\mathcal{G}_{ij}}{a_{i}\\sqrt{m_{i}n_{i}}}\\qquad\n",
    "    S_{ij}=\\frac{\\mathcal{S}_{ij}}{a_{i}\\sqrt{m_{i}n_{i}}}\n",
    "$$"
   ]
  },
  {
   "cell_type": "code",
   "execution_count": 71,
   "metadata": {
    "collapsed": false
   },
   "outputs": [
    {
     "name": "stdout",
     "output_type": "stream",
     "text": [
      "[[ -73.85482142  140.88132642  -37.01274967    2.90361328]\n",
      " [ 228.77196799  111.00882177  -33.7005595     3.26917331]\n",
      " [  -8.57899266 -144.61145855 -527.95033347   68.3839666 ]\n",
      " [  -0.64062594    5.32579815   56.87186216  450.25457921]]\n"
     ]
    }
   ],
   "source": [
    "# Ainda está ruim\n",
    "u_estrela = A_eigen[1]\n",
    "u = np.zeros((len_a, len_a))\n",
    "\n",
    "for i in range(0, len_a):\n",
    "    for j in range(0, len_a):\n",
    "        u[i, j] = (u_estrela[i,j]/(a[i] * np.sqrt(m[i] * n[i])))\n",
    "\n",
    "print(u)"
   ]
  },
  {
   "cell_type": "markdown",
   "metadata": {},
   "source": [
    "## Condições de contorno\n",
    "\n",
    "### Cálculo das variáveis regulares\n",
    "\n",
    "\\begin{equation}\n",
    "    \\begin{array}{cc}\n",
    "        h_j = e_j \\sin \\varpi_j & \\quad p_j = \\sin I_j \\sin \\Omega_j \\\\\n",
    "        k_j = e_j \\cos \\varpi_j & \\quad q_j = \\sin I_j \\cos \\Omega_j\n",
    "    \\end{array}\n",
    "\\end{equation}"
   ]
  },
  {
   "cell_type": "code",
   "execution_count": 72,
   "metadata": {
    "collapsed": false
   },
   "outputs": [
    {
     "name": "stdout",
     "output_type": "stream",
     "text": [
      "\n",
      "Variáveis regulares\n",
      "-------------------\n",
      "\n",
      "   Planeta         h         k         p         q\n",
      "0  Jupiter  0.011779  0.046773  0.022398 -0.004110\n",
      "1  Saturno  0.053778 -0.003803  0.039669 -0.017549\n",
      "2    Urano  0.007167 -0.050840  0.012977  0.003696\n",
      "3   Netuno  0.003821  0.002864  0.023157 -0.020497\n"
     ]
    }
   ],
   "source": [
    "# Criando novas colunas com as variáveis regularizadas\n",
    "pl['h'] = e * np.sin(np.radians(varpi))\n",
    "pl['k'] = e * np.cos(np.radians(varpi))\n",
    "pl['p'] = np.sin(np.radians(inc)) * np.sin(np.radians(capom))\n",
    "pl['q'] = np.sin(np.radians(inc)) * np.cos(np.radians(capom))\n",
    "    \n",
    "print('\\nVariáveis regulares')\n",
    "print('-------------------\\n')\n",
    "\n",
    "print(pl[['Planeta', 'h', 'k', 'p', 'q']])"
   ]
  },
  {
   "cell_type": "code",
   "execution_count": null,
   "metadata": {
    "collapsed": true
   },
   "outputs": [],
   "source": []
  }
 ],
 "metadata": {
  "anaconda-cloud": {},
  "kernelspec": {
   "display_name": "Python 3",
   "language": "python",
   "name": "python3"
  },
  "language_info": {
   "codemirror_mode": {
    "name": "ipython",
    "version": 3
   },
   "file_extension": ".py",
   "mimetype": "text/x-python",
   "name": "python",
   "nbconvert_exporter": "python",
   "pygments_lexer": "ipython3",
   "version": "3.4.5"
  },
  "nbpresent": {
   "slides": {
    "08688f81-6f58-4281-8e33-d1fe031e068f": {
     "id": "08688f81-6f58-4281-8e33-d1fe031e068f",
     "prev": "a4c733c2-b79f-4eed-8321-c51309d3b594",
     "regions": {
      "1bf8aabc-bccd-4394-bee4-d838d43b5ca8": {
       "attrs": {
        "height": 0.8,
        "width": 0.8,
        "x": 0.1,
        "y": 0.1
       },
       "content": {
        "cell": "5e8bdbbf-1595-49b4-9778-0932594afd96",
        "part": "whole"
       },
       "id": "1bf8aabc-bccd-4394-bee4-d838d43b5ca8"
      }
     }
    },
    "0e08f131-3c79-4628-ad0d-c628f654a8ab": {
     "id": "0e08f131-3c79-4628-ad0d-c628f654a8ab",
     "prev": "d4dde4d3-858e-4a76-9d2c-0990fe43093c",
     "regions": {
      "80fb2087-a127-4a0c-aa86-58060a53322d": {
       "attrs": {
        "height": 0.8,
        "width": 0.8,
        "x": 0.1,
        "y": 0.1
       },
       "content": {
        "cell": "7c7499e2-3113-4f6d-ac3d-1f47c22a357d",
        "part": "whole"
       },
       "id": "80fb2087-a127-4a0c-aa86-58060a53322d"
      }
     }
    },
    "13fe6b3e-bd0a-430d-a3b1-5518a5b6bba1": {
     "id": "13fe6b3e-bd0a-430d-a3b1-5518a5b6bba1",
     "prev": "e59cbb1f-b867-4505-bac7-48e66d65318d",
     "regions": {
      "13b2f486-01ca-4b07-bf2d-1f5cb24f9864": {
       "attrs": {
        "height": 0.8,
        "width": 0.8,
        "x": 0.1,
        "y": 0.1
       },
       "content": {
        "cell": "d48fb58d-9731-4114-97a3-8bc0b0a1a085",
        "part": "whole"
       },
       "id": "13b2f486-01ca-4b07-bf2d-1f5cb24f9864"
      }
     }
    },
    "207760b0-66da-40d3-8032-4891da62b706": {
     "id": "207760b0-66da-40d3-8032-4891da62b706",
     "prev": "347089ad-64db-4c8f-a1c6-5eb2f634ee5a",
     "regions": {
      "6530e075-425d-43f5-80dd-4dba2787eae4": {
       "attrs": {
        "height": 0.8,
        "width": 0.8,
        "x": 0.1,
        "y": 0.1
       },
       "content": {
        "cell": "053499d5-8563-4e17-926f-1b1e84eeb306",
        "part": "whole"
       },
       "id": "6530e075-425d-43f5-80dd-4dba2787eae4"
      }
     }
    },
    "279d9f22-bb91-4522-ad4c-ec6211ebb287": {
     "id": "279d9f22-bb91-4522-ad4c-ec6211ebb287",
     "prev": "13fe6b3e-bd0a-430d-a3b1-5518a5b6bba1",
     "regions": {
      "bc224aa3-c727-486f-9631-7cbf92b467c6": {
       "attrs": {
        "height": 0.8,
        "width": 0.8,
        "x": 0.1,
        "y": 0.1
       },
       "content": {
        "cell": "9fa375ec-1bad-452c-9913-16d80af23177",
        "part": "whole"
       },
       "id": "bc224aa3-c727-486f-9631-7cbf92b467c6"
      }
     }
    },
    "347089ad-64db-4c8f-a1c6-5eb2f634ee5a": {
     "id": "347089ad-64db-4c8f-a1c6-5eb2f634ee5a",
     "prev": "3c0462ad-d274-4476-bec7-ed71e59c4f2b",
     "regions": {
      "444a70fb-667e-4de6-8781-c3f2d2fce180": {
       "attrs": {
        "height": 0.8,
        "width": 0.8,
        "x": 0.1,
        "y": 0.1
       },
       "content": {
        "cell": "d4de6ba2-9676-4d1c-88a5-41e850367361",
        "part": "whole"
       },
       "id": "444a70fb-667e-4de6-8781-c3f2d2fce180"
      }
     }
    },
    "39aa11d9-f88b-486f-8b05-a57480c52c41": {
     "id": "39aa11d9-f88b-486f-8b05-a57480c52c41",
     "prev": "279d9f22-bb91-4522-ad4c-ec6211ebb287",
     "regions": {
      "b0077214-2e2f-4fb2-8055-c35b494a52bd": {
       "attrs": {
        "height": 0.8,
        "width": 0.8,
        "x": 0.1,
        "y": 0.1
       },
       "content": {
        "cell": "23498cd2-fba9-468a-8cda-89a4bf7c0521",
        "part": "whole"
       },
       "id": "b0077214-2e2f-4fb2-8055-c35b494a52bd"
      }
     }
    },
    "3a7ffd40-5dcd-414a-b9ba-29eff6a0cb8d": {
     "id": "3a7ffd40-5dcd-414a-b9ba-29eff6a0cb8d",
     "prev": "bc384d76-1f69-49ce-98f5-b529118057c4",
     "regions": {
      "99e519e1-beef-4c5c-9915-251fdd299c1d": {
       "attrs": {
        "height": 0.8,
        "width": 0.8,
        "x": 0.1,
        "y": 0.1
       },
       "content": {
        "cell": "0eb4383c-274a-4af8-bdd3-19509610c91f",
        "part": "whole"
       },
       "id": "99e519e1-beef-4c5c-9915-251fdd299c1d"
      }
     }
    },
    "3c0462ad-d274-4476-bec7-ed71e59c4f2b": {
     "id": "3c0462ad-d274-4476-bec7-ed71e59c4f2b",
     "prev": "d089a7a5-a497-4c9b-b754-fc82a146cbf1",
     "regions": {
      "b3c484e1-a28d-4f4e-96e7-07d9f8684cac": {
       "attrs": {
        "height": 0.8,
        "width": 0.8,
        "x": 0.1,
        "y": 0.1
       },
       "content": {
        "cell": "7efd7490-fc8d-40fe-9f78-af6ff037260a",
        "part": "whole"
       },
       "id": "b3c484e1-a28d-4f4e-96e7-07d9f8684cac"
      }
     }
    },
    "3f057a87-0b91-462c-9529-5e30115fc0aa": {
     "id": "3f057a87-0b91-462c-9529-5e30115fc0aa",
     "prev": "08688f81-6f58-4281-8e33-d1fe031e068f",
     "regions": {
      "44d989a0-24c0-46ab-b277-04dda229667d": {
       "attrs": {
        "height": 0.8,
        "width": 0.8,
        "x": 0.1,
        "y": 0.1
       },
       "content": {
        "cell": "6d3ff0c4-96de-4150-989c-96df4783fb97",
        "part": "whole"
       },
       "id": "44d989a0-24c0-46ab-b277-04dda229667d"
      }
     }
    },
    "4041e1a8-2d56-44a6-b24a-5d59f29dacde": {
     "id": "4041e1a8-2d56-44a6-b24a-5d59f29dacde",
     "prev": null,
     "regions": {
      "12c380ee-0554-4bb0-956b-88dc89e7e855": {
       "attrs": {
        "height": 0.8,
        "width": 0.8,
        "x": 0.1,
        "y": 0.1
       },
       "content": {
        "cell": "a2c113ea-c520-45cb-88d1-316857b82bf6",
        "part": "whole"
       },
       "id": "12c380ee-0554-4bb0-956b-88dc89e7e855"
      }
     }
    },
    "4a377609-de81-42e7-a2f0-65bc354b4d80": {
     "id": "4a377609-de81-42e7-a2f0-65bc354b4d80",
     "prev": "bd962bb4-207d-4861-a2e1-68ad833a4757",
     "regions": {
      "b3257dae-888b-4c29-9b32-cb2b3594b2b8": {
       "attrs": {
        "height": 0.8,
        "width": 0.8,
        "x": 0.1,
        "y": 0.1
       },
       "content": {
        "cell": "947af6ca-ec79-4706-8734-63dcd2366690",
        "part": "whole"
       },
       "id": "b3257dae-888b-4c29-9b32-cb2b3594b2b8"
      }
     }
    },
    "4f539d0a-5f5b-4d21-bb0b-3869c965745c": {
     "id": "4f539d0a-5f5b-4d21-bb0b-3869c965745c",
     "prev": "9c4d1c5b-de67-4bb9-ade1-19b2d774c8ed",
     "regions": {
      "4174177f-0dbb-4b5d-b818-ccc6f52d9316": {
       "attrs": {
        "height": 0.8,
        "width": 0.8,
        "x": 0.1,
        "y": 0.1
       },
       "content": {
        "cell": "f8359f50-1f29-483d-b0c0-b4abec39a9aa",
        "part": "whole"
       },
       "id": "4174177f-0dbb-4b5d-b818-ccc6f52d9316"
      }
     }
    },
    "8b4b1b69-8915-472e-8640-551ded281c06": {
     "id": "8b4b1b69-8915-472e-8640-551ded281c06",
     "prev": "9f98955a-648c-4d8f-b515-fd304d01c37e",
     "regions": {
      "131e5ea4-536c-4803-bd15-96301bc58679": {
       "attrs": {
        "height": 0.8,
        "width": 0.8,
        "x": 0.1,
        "y": 0.1
       },
       "content": {
        "cell": "46b3a644-de52-46c4-8bc3-bdff38105f9c",
        "part": "whole"
       },
       "id": "131e5ea4-536c-4803-bd15-96301bc58679"
      }
     }
    },
    "9c4d1c5b-de67-4bb9-ade1-19b2d774c8ed": {
     "id": "9c4d1c5b-de67-4bb9-ade1-19b2d774c8ed",
     "prev": "bd0c4509-6b16-43b5-8e0c-6fb48680e5a2",
     "regions": {
      "e1de1622-d09d-4d0e-910a-0fb3d0d3558a": {
       "attrs": {
        "height": 0.8,
        "width": 0.8,
        "x": 0.1,
        "y": 0.1
       },
       "content": {
        "cell": "9d09ec4e-1c1b-4781-8c71-309bcb9e183f",
        "part": "whole"
       },
       "id": "e1de1622-d09d-4d0e-910a-0fb3d0d3558a"
      }
     }
    },
    "9f98955a-648c-4d8f-b515-fd304d01c37e": {
     "id": "9f98955a-648c-4d8f-b515-fd304d01c37e",
     "prev": "4f539d0a-5f5b-4d21-bb0b-3869c965745c",
     "regions": {
      "e89cb9f1-93b9-480c-9aca-b56e67d76883": {
       "attrs": {
        "height": 0.8,
        "width": 0.8,
        "x": 0.1,
        "y": 0.1
       },
       "content": {
        "cell": "de15fe29-f7f5-4e36-a399-4f322d3f7c50",
        "part": "whole"
       },
       "id": "e89cb9f1-93b9-480c-9aca-b56e67d76883"
      }
     }
    },
    "a4c733c2-b79f-4eed-8321-c51309d3b594": {
     "id": "a4c733c2-b79f-4eed-8321-c51309d3b594",
     "prev": "207760b0-66da-40d3-8032-4891da62b706",
     "regions": {
      "550e628e-ee60-4431-ad84-94594d852c75": {
       "attrs": {
        "height": 0.8,
        "width": 0.8,
        "x": 0.1,
        "y": 0.1
       },
       "content": {
        "cell": "6587826f-eff8-4820-8026-117fe57f5d4e",
        "part": "whole"
       },
       "id": "550e628e-ee60-4431-ad84-94594d852c75"
      }
     }
    },
    "bc384d76-1f69-49ce-98f5-b529118057c4": {
     "id": "bc384d76-1f69-49ce-98f5-b529118057c4",
     "prev": "d08a36bb-d623-4803-ac36-7fed1ba99351",
     "regions": {
      "95a9bf2c-3733-4d21-94d1-4e578adb1f79": {
       "attrs": {
        "height": 0.8,
        "width": 0.8,
        "x": 0.1,
        "y": 0.1
       },
       "content": {
        "cell": "32f4d797-e9c5-4d68-9fe5-e52f5eb494dd",
        "part": "whole"
       },
       "id": "95a9bf2c-3733-4d21-94d1-4e578adb1f79"
      }
     }
    },
    "bd0c4509-6b16-43b5-8e0c-6fb48680e5a2": {
     "id": "bd0c4509-6b16-43b5-8e0c-6fb48680e5a2",
     "prev": "3a7ffd40-5dcd-414a-b9ba-29eff6a0cb8d",
     "regions": {
      "22e78dda-bf73-4d8c-a63a-6077a3108824": {
       "attrs": {
        "height": 0.8,
        "width": 0.8,
        "x": 0.1,
        "y": 0.1
       },
       "content": {
        "cell": "1644ac48-51cb-4993-ab1d-73c18bfa9141",
        "part": "whole"
       },
       "id": "22e78dda-bf73-4d8c-a63a-6077a3108824"
      }
     }
    },
    "bd962bb4-207d-4861-a2e1-68ad833a4757": {
     "id": "bd962bb4-207d-4861-a2e1-68ad833a4757",
     "prev": "da92aa1e-7b74-49d7-9c99-3ec51870c575",
     "regions": {
      "dd6c51d7-a743-4b11-9f73-65ae0a4de752": {
       "attrs": {
        "height": 0.8,
        "width": 0.8,
        "x": 0.1,
        "y": 0.1
       },
       "content": {
        "cell": "8d168dcf-7539-466f-9bb5-34bcf8da7cbb",
        "part": "whole"
       },
       "id": "dd6c51d7-a743-4b11-9f73-65ae0a4de752"
      }
     }
    },
    "bfec82e2-ef72-4523-8433-aa3aec569ce7": {
     "id": "bfec82e2-ef72-4523-8433-aa3aec569ce7",
     "prev": "0e08f131-3c79-4628-ad0d-c628f654a8ab",
     "regions": {
      "fe5e26ff-2ddf-4ef9-94c4-228afe31bbd8": {
       "attrs": {
        "height": 0.8,
        "width": 0.8,
        "x": 0.1,
        "y": 0.1
       },
       "content": {
        "cell": "a4ea27ed-b28b-4df3-8678-bdf03ee60fbe",
        "part": "whole"
       },
       "id": "fe5e26ff-2ddf-4ef9-94c4-228afe31bbd8"
      }
     }
    },
    "d089a7a5-a497-4c9b-b754-fc82a146cbf1": {
     "id": "d089a7a5-a497-4c9b-b754-fc82a146cbf1",
     "prev": "8b4b1b69-8915-472e-8640-551ded281c06",
     "regions": {
      "beba87bc-4e33-46de-b076-95422b49275e": {
       "attrs": {
        "height": 0.8,
        "width": 0.8,
        "x": 0.1,
        "y": 0.1
       },
       "content": {
        "cell": "68a78d6f-e697-4b43-8ec1-c8c2aab97740",
        "part": "whole"
       },
       "id": "beba87bc-4e33-46de-b076-95422b49275e"
      }
     }
    },
    "d08a36bb-d623-4803-ac36-7fed1ba99351": {
     "id": "d08a36bb-d623-4803-ac36-7fed1ba99351",
     "prev": "4a377609-de81-42e7-a2f0-65bc354b4d80",
     "regions": {
      "f0b5cbfd-9303-47f5-a47b-638a6f81ba42": {
       "attrs": {
        "height": 0.8,
        "width": 0.8,
        "x": 0.1,
        "y": 0.1
       },
       "content": {
        "cell": "dac09f99-ed07-44d6-871c-fd5901167fa2",
        "part": "whole"
       },
       "id": "f0b5cbfd-9303-47f5-a47b-638a6f81ba42"
      }
     }
    },
    "d4dde4d3-858e-4a76-9d2c-0990fe43093c": {
     "id": "d4dde4d3-858e-4a76-9d2c-0990fe43093c",
     "prev": "4041e1a8-2d56-44a6-b24a-5d59f29dacde",
     "regions": {
      "83de173d-5c8b-40ff-839c-2a69005f0eab": {
       "attrs": {
        "height": 0.8,
        "width": 0.8,
        "x": 0.1,
        "y": 0.1
       },
       "content": {
        "cell": "1e9667ec-f6e0-41cd-bafb-6a3914a971a5",
        "part": "whole"
       },
       "id": "83de173d-5c8b-40ff-839c-2a69005f0eab"
      }
     }
    },
    "da92aa1e-7b74-49d7-9c99-3ec51870c575": {
     "id": "da92aa1e-7b74-49d7-9c99-3ec51870c575",
     "prev": "bfec82e2-ef72-4523-8433-aa3aec569ce7",
     "regions": {
      "572bbb4c-66c1-46aa-8c2b-d5f603576eed": {
       "attrs": {
        "height": 0.8,
        "width": 0.8,
        "x": 0.1,
        "y": 0.1
       },
       "content": {
        "cell": "cd4aff3f-e863-4a73-8922-83d7d4537196",
        "part": "whole"
       },
       "id": "572bbb4c-66c1-46aa-8c2b-d5f603576eed"
      }
     }
    },
    "e59cbb1f-b867-4505-bac7-48e66d65318d": {
     "id": "e59cbb1f-b867-4505-bac7-48e66d65318d",
     "prev": "3f057a87-0b91-462c-9529-5e30115fc0aa",
     "regions": {
      "0d5421c6-9408-4d51-b26c-0f6a05af4dce": {
       "attrs": {
        "height": 0.8,
        "width": 0.8,
        "x": 0.1,
        "y": 0.1
       },
       "content": {
        "cell": "7253ace0-c54e-49ec-8544-85a82bd42542",
        "part": "whole"
       },
       "id": "0d5421c6-9408-4d51-b26c-0f6a05af4dce"
      }
     }
    }
   },
   "themes": {}
  }
 },
 "nbformat": 4,
 "nbformat_minor": 0
}
